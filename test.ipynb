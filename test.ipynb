{
 "cells": [
  {
   "cell_type": "code",
   "execution_count": 35,
   "metadata": {},
   "outputs": [],
   "source": [
    "from astropy import time\n",
    "from datetime import datetime\n",
    "import numpy as np\n",
    "import cysgp4\n",
    "from scepter import tleforger\n",
    "from astropy import units as u"
   ]
  },
  {
   "cell_type": "markdown",
   "metadata": {},
   "source": [
    "# ========================\n",
    "# Chapter I. Calculations\n",
    "# ========================"
   ]
  },
  {
   "cell_type": "code",
   "execution_count": 36,
   "metadata": {},
   "outputs": [],
   "source": [
    "# --------------------------------------------------------\n",
    "# 1) Time range\n",
    "# --------------------------------------------------------\n",
    "start_time = time.Time(datetime(2025, 1, 1, 0, 0, 0))\n",
    "timestep = 10 # steps in seconds\n",
    "td = time.TimeDelta(np.arange(0, 0.15*3600*24, timestep), format='sec')  # x days above steps\n",
    "times = start_time + td\n",
    "n_times = len(times)  # total frames"
   ]
  },
  {
   "cell_type": "code",
   "execution_count": 37,
   "metadata": {},
   "outputs": [],
   "source": [
    "# --------------------------------------------------------\n",
    "# 2) RAS Observatory definition\n",
    "# --------------------------------------------------------\n",
    "latitude = -30.712777 * u.deg\n",
    "longitude = 21.443611 * u.deg\n",
    "elevation = 1052.0 * u.m\n",
    "SKAO=cysgp4.PyObserver(longitude.value,latitude.value,elevation.to(u.km).value)"
   ]
  },
  {
   "cell_type": "code",
   "execution_count": 38,
   "metadata": {},
   "outputs": [],
   "source": [
    "# --------------------------------------------------------\n",
    "# 3) Satellite batch creation\n",
    "# --------------------------------------------------------\n",
    "belt_name='SystemA_Belt_1'\n",
    "num_sats_per_plane = 28\n",
    "plane_count = 28\n",
    "altitude_km = 590\n",
    "eccentricity = 0.0\n",
    "inclination_deg = 33\n",
    "argp_deg = 0.0\n",
    "RAAN_min = 0\n",
    "RAAN_max = 360\n",
    "\n",
    "System_A1_tle_list = tleforger.forge_tle_belt(belt_name=belt_name, num_sats_per_plane=num_sats_per_plane, plane_count=plane_count, RAAN_min=RAAN_min, RAAN_max=RAAN_max, altitude_m=altitude_km*1000, eccentricity=eccentricity, inclination_deg=inclination_deg, argp_deg=argp_deg, adjacent_plane_offset=False)\n",
    "\n",
    "belt_name='SystemA_Belt_2'\n",
    "num_sats_per_plane = 36\n",
    "plane_count = 36\n",
    "altitude_km = 610\n",
    "eccentricity = 0.0\n",
    "inclination_deg = 42\n",
    "argp_deg = 0.0\n",
    "RAAN_min = 0\n",
    "RAAN_max = 360\n",
    "\n",
    "System_A2_tle_list = tleforger.forge_tle_belt(belt_name=belt_name, num_sats_per_plane=num_sats_per_plane, plane_count=plane_count, RAAN_min=RAAN_min, RAAN_max=RAAN_max, altitude_m=altitude_km*1000, eccentricity=eccentricity, inclination_deg=inclination_deg, argp_deg=argp_deg, adjacent_plane_offset=False)\n",
    "\n",
    "belt_name='SystemA_Belt_3'\n",
    "num_sats_per_plane = 34\n",
    "plane_count = 34\n",
    "altitude_km = 630\n",
    "eccentricity = 0.0\n",
    "inclination_deg = 51.9\n",
    "argp_deg = 0.0\n",
    "RAAN_min = 0\n",
    "RAAN_max = 360\n",
    "\n",
    "System_A3_tle_list = tleforger.forge_tle_belt(belt_name=belt_name, num_sats_per_plane=num_sats_per_plane, plane_count=plane_count, RAAN_min=RAAN_min, RAAN_max=RAAN_max, altitude_m=altitude_km*1000, eccentricity=eccentricity, inclination_deg=inclination_deg, argp_deg=argp_deg, adjacent_plane_offset=False)\n",
    "\n",
    "belt_name='SystemB_Belt_1'\n",
    "num_sats_per_plane = 120\n",
    "plane_count = 28\n",
    "altitude_km = 525\n",
    "eccentricity = 0.0\n",
    "inclination_deg = 53\n",
    "argp_deg = 0.0\n",
    "RAAN_min = 0\n",
    "RAAN_max = 360\n",
    "\n",
    "System_B1_tle_list = tleforger.forge_tle_belt(belt_name=belt_name, num_sats_per_plane=num_sats_per_plane, plane_count=plane_count, RAAN_min=RAAN_min, RAAN_max=RAAN_max, altitude_m=altitude_km*1000, eccentricity=eccentricity, inclination_deg=inclination_deg, argp_deg=argp_deg, adjacent_plane_offset=False)\n",
    "\n",
    "belt_name='SystemB_Belt_2'\n",
    "num_sats_per_plane = 120\n",
    "plane_count = 28\n",
    "altitude_km = 530\n",
    "eccentricity = 0.0\n",
    "inclination_deg = 43\n",
    "argp_deg = 0.0\n",
    "RAAN_min = 0\n",
    "RAAN_max = 360\n",
    "\n",
    "System_B2_tle_list = tleforger.forge_tle_belt(belt_name=belt_name, num_sats_per_plane=num_sats_per_plane, plane_count=plane_count, RAAN_min=RAAN_min, RAAN_max=RAAN_max, altitude_m=altitude_km*1000, eccentricity=eccentricity, inclination_deg=inclination_deg, argp_deg=argp_deg, adjacent_plane_offset=False)\n",
    "\n",
    "belt_name='SystemB_Belt_3'\n",
    "num_sats_per_plane = 28\n",
    "plane_count = 24\n",
    "altitude_km = 535\n",
    "eccentricity = 0.0\n",
    "inclination_deg = 33\n",
    "argp_deg = 0.0\n",
    "RAAN_min = 0\n",
    "RAAN_max = 360\n",
    "\n",
    "System_B3_tle_list = tleforger.forge_tle_belt(belt_name=belt_name, num_sats_per_plane=num_sats_per_plane, plane_count=plane_count, RAAN_min=RAAN_min, RAAN_max=RAAN_max, altitude_m=altitude_km*1000, eccentricity=eccentricity, inclination_deg=inclination_deg, argp_deg=argp_deg, adjacent_plane_offset=False)\n",
    "\n",
    "belt_name='SystemB_Belt_4'\n",
    "num_sats_per_plane = 27\n",
    "plane_count = 4\n",
    "altitude_km = 535\n",
    "eccentricity = 0.0\n",
    "inclination_deg = 33\n",
    "argp_deg = 0.0\n",
    "RAAN_min = 0\n",
    "RAAN_max = 360\n",
    "\n",
    "System_B4_tle_list = tleforger.forge_tle_belt(belt_name=belt_name, num_sats_per_plane=num_sats_per_plane, plane_count=plane_count, RAAN_min=RAAN_min, RAAN_max=RAAN_max, altitude_m=altitude_km*1000, eccentricity=eccentricity, inclination_deg=inclination_deg, argp_deg=argp_deg, adjacent_plane_offset=False)\n",
    "\n",
    "belt_name='SystemC_Belt_1'\n",
    "num_sats_per_plane = 40\n",
    "plane_count = 18\n",
    "altitude_km = 1200\n",
    "eccentricity = 0.0\n",
    "inclination_deg = 87.9\n",
    "argp_deg = 0.0\n",
    "RAAN_min = 0\n",
    "RAAN_max = 180\n",
    "\n",
    "System_C_tle_list = tleforger.forge_tle_belt(belt_name=belt_name, num_sats_per_plane=num_sats_per_plane, plane_count=plane_count, RAAN_min=RAAN_min, RAAN_max=RAAN_max, altitude_m=altitude_km*1000, eccentricity=eccentricity, inclination_deg=inclination_deg, argp_deg=argp_deg, adjacent_plane_offset=False)\n",
    "\n",
    "tle_list = np.concatenate((System_A1_tle_list, System_A2_tle_list, System_A3_tle_list, System_B1_tle_list, System_B2_tle_list, System_B3_tle_list, System_B4_tle_list, System_C_tle_list))\n",
    "n_sats = len(tle_list)"
   ]
  },
  {
   "cell_type": "code",
   "execution_count": 39,
   "metadata": {},
   "outputs": [
    {
     "name": "stdout",
     "output_type": "stream",
     "text": [
      "11456\n"
     ]
    }
   ],
   "source": [
    "print(n_sats)"
   ]
  },
  {
   "cell_type": "code",
   "execution_count": 40,
   "metadata": {},
   "outputs": [],
   "source": [
    "# --------------------------------------------------------\n",
    "# 4) Calculating satellite and observers positions in ECI frame\n",
    "# --------------------------------------------------------\n",
    "\n",
    "#Reshaping the inputs\n",
    "observers_new=np.array([SKAO])[np.newaxis, :, np.newaxis]\n",
    "mjds_new=times.mjd[:, np.newaxis, np.newaxis]\n",
    "tles_new=tle_list[np.newaxis, np.newaxis, :]\n",
    "\n",
    "result = cysgp4.propagate_many(mjds_new, \n",
    "                               tles_new, \n",
    "                               observers_new, \n",
    "                               do_eci_pos=True, \n",
    "                               do_eci_vel=False, \n",
    "                               do_geo=False, \n",
    "                               do_topo=True,\n",
    "                               do_obs_pos=True,\n",
    "                               do_sat_azel=False,\n",
    "                               do_sat_rotmat=False,\n",
    "                               sat_frame='xyz')\n",
    "sat_eci_pos=result['eci_pos']\n",
    "sat_topo=result['topo']\n",
    "obs_eci_pos=result['obs_pos']\n",
    "# Shape is (times, observers, satellites,...)"
   ]
  },
  {
   "cell_type": "code",
   "execution_count": 41,
   "metadata": {},
   "outputs": [
    {
     "name": "stdout",
     "output_type": "stream",
     "text": [
      "(432, 1, 11456, 3)\n"
     ]
    }
   ],
   "source": [
    "print(np.shape(obs_eci_pos))"
   ]
  },
  {
   "cell_type": "markdown",
   "metadata": {},
   "source": [
    "# --------------------------------------------------------\n",
    "# Chapter II. Visualisation\n",
    "# --------------------------------------------------------"
   ]
  },
  {
   "cell_type": "code",
   "execution_count": 42,
   "metadata": {},
   "outputs": [],
   "source": [
    "import pyvista as pv\n",
    "import vtk\n",
    "vtk.vtkObject.GlobalWarningDisplayOff()\n",
    "from astropy.constants import R_earth\n",
    "from astropy.coordinates import CartesianRepresentation, SphericalRepresentation\n",
    "from tqdm.auto import tqdm\n",
    "import matplotlib.pyplot as plt\n",
    "\n",
    "# Animation would be stored to the movie. If SAVE_MOVIE is False, only static 3D scenery of last timestamp will be shown\n",
    "SAVE_MOVIE=True\n",
    "SKYBOX=True"
   ]
  },
  {
   "cell_type": "markdown",
   "metadata": {},
   "source": [
    "Code below required to ensure tqdm progressbar to match VSCode theme"
   ]
  },
  {
   "cell_type": "code",
   "execution_count": 43,
   "metadata": {},
   "outputs": [
    {
     "data": {
      "text/html": [
       "<style>\n",
       ".cell-output-ipywidget-background {\n",
       "    background-color: transparent !important;\n",
       "}\n",
       ":root {\n",
       "    --jp-widgets-color: var(--vscode-editor-foreground);\n",
       "    --jp-widgets-font-size: var(--vscode-editor-font-size);\n",
       "}  \n",
       "</style>\n"
      ],
      "text/plain": [
       "<IPython.core.display.HTML object>"
      ]
     },
     "metadata": {},
     "output_type": "display_data"
    }
   ],
   "source": [
    "%%html\n",
    "<style>\n",
    ".cell-output-ipywidget-background {\n",
    "    background-color: transparent !important;\n",
    "}\n",
    ":root {\n",
    "    --jp-widgets-color: var(--vscode-editor-foreground);\n",
    "    --jp-widgets-font-size: var(--vscode-editor-font-size);\n",
    "}  \n",
    "</style>"
   ]
  },
  {
   "cell_type": "code",
   "execution_count": 46,
   "metadata": {},
   "outputs": [
    {
     "data": {
      "application/vnd.jupyter.widget-view+json": {
       "model_id": "62317c0896b947e0b296fad489668560",
       "version_major": 2,
       "version_minor": 0
      },
      "text/plain": [
       "Preparing satellites::   0%|          | 0/11456 [00:00<?, ?it/s]"
      ]
     },
     "metadata": {},
     "output_type": "display_data"
    },
    {
     "ename": "KeyboardInterrupt",
     "evalue": "",
     "output_type": "error",
     "traceback": [
      "\u001b[1;31m---------------------------------------------------------------------------\u001b[0m",
      "\u001b[1;31mAttributeError\u001b[0m                            Traceback (most recent call last)",
      "File \u001b[1;32mc:\\Users\\Boris\\anaconda3\\envs\\scepter-dev\\lib\\site-packages\\numpy\\core\\fromnumeric.py:3200\u001b[0m, in \u001b[0;36msize\u001b[1;34m(a, axis)\u001b[0m\n\u001b[0;32m   3199\u001b[0m \u001b[38;5;28;01mtry\u001b[39;00m:\n\u001b[1;32m-> 3200\u001b[0m     \u001b[38;5;28;01mreturn\u001b[39;00m \u001b[43ma\u001b[49m\u001b[38;5;241;43m.\u001b[39;49m\u001b[43msize\u001b[49m\n\u001b[0;32m   3201\u001b[0m \u001b[38;5;28;01mexcept\u001b[39;00m \u001b[38;5;167;01mAttributeError\u001b[39;00m:\n",
      "\u001b[1;31mAttributeError\u001b[0m: 'int' object has no attribute 'size'",
      "\nDuring handling of the above exception, another exception occurred:\n",
      "\u001b[1;31mKeyboardInterrupt\u001b[0m                         Traceback (most recent call last)",
      "Cell \u001b[1;32mIn[46], line 41\u001b[0m\n\u001b[0;32m     39\u001b[0m satellite_actors\u001b[38;5;241m=\u001b[39m[]\n\u001b[0;32m     40\u001b[0m \u001b[38;5;28;01mfor\u001b[39;00m sidx \u001b[38;5;129;01min\u001b[39;00m tqdm(\u001b[38;5;28mrange\u001b[39m(n_sats), desc\u001b[38;5;241m=\u001b[39m\u001b[38;5;124m'\u001b[39m\u001b[38;5;124mPreparing satellites:\u001b[39m\u001b[38;5;124m'\u001b[39m):\n\u001b[1;32m---> 41\u001b[0m     satellite_actor \u001b[38;5;241m=\u001b[39m \u001b[43mpl\u001b[49m\u001b[38;5;241;43m.\u001b[39;49m\u001b[43madd_mesh\u001b[49m\u001b[43m(\u001b[49m\n\u001b[0;32m     42\u001b[0m \u001b[43m        \u001b[49m\u001b[43msatellite_sphere\u001b[49m\u001b[43m,\u001b[49m\n\u001b[0;32m     43\u001b[0m \u001b[43m        \u001b[49m\u001b[43mcolor\u001b[49m\u001b[38;5;241;43m=\u001b[39;49m\u001b[38;5;124;43m'\u001b[39;49m\u001b[38;5;124;43mblue\u001b[39;49m\u001b[38;5;124;43m'\u001b[39;49m\u001b[43m,\u001b[49m\n\u001b[0;32m     44\u001b[0m \u001b[43m        \u001b[49m\u001b[43msmooth_shading\u001b[49m\u001b[38;5;241;43m=\u001b[39;49m\u001b[38;5;28;43;01mTrue\u001b[39;49;00m\u001b[43m,\u001b[49m\n\u001b[0;32m     45\u001b[0m \u001b[43m        \u001b[49m\u001b[43mname\u001b[49m\u001b[38;5;241;43m=\u001b[39;49m\u001b[43mtle_list\u001b[49m\u001b[43m[\u001b[49m\u001b[43msidx\u001b[49m\u001b[43m]\u001b[49m\u001b[38;5;241;43m.\u001b[39;49m\u001b[43mname\u001b[49m\n\u001b[0;32m     46\u001b[0m \u001b[43m    \u001b[49m\u001b[43m)\u001b[49m    \n\u001b[0;32m     47\u001b[0m     satellite_actor\u001b[38;5;241m.\u001b[39mSetPosition(sat_eci_pos[\u001b[38;5;241m0\u001b[39m,\u001b[38;5;241m0\u001b[39m,sidx,\u001b[38;5;241m0\u001b[39m], sat_eci_pos[\u001b[38;5;241m0\u001b[39m,\u001b[38;5;241m0\u001b[39m,sidx,\u001b[38;5;241m1\u001b[39m], sat_eci_pos[\u001b[38;5;241m0\u001b[39m,\u001b[38;5;241m0\u001b[39m,sidx,\u001b[38;5;241m2\u001b[39m])\n\u001b[0;32m     48\u001b[0m     satellite_actors\u001b[38;5;241m.\u001b[39mappend(satellite_actor)\n",
      "File \u001b[1;32mc:\\Users\\Boris\\anaconda3\\envs\\scepter-dev\\lib\\site-packages\\pyvista\\plotting\\plotter.py:3763\u001b[0m, in \u001b[0;36mBasePlotter.add_mesh\u001b[1;34m(self, mesh, color, style, scalars, clim, show_edges, edge_color, point_size, line_width, opacity, flip_scalars, lighting, n_colors, interpolate_before_map, cmap, label, reset_camera, scalar_bar_args, show_scalar_bar, multi_colors, name, texture, render_points_as_spheres, render_lines_as_tubes, smooth_shading, split_sharp_edges, ambient, diffuse, specular, specular_power, nan_color, nan_opacity, culling, rgb, categories, silhouette, use_transparency, below_color, above_color, annotations, pickable, preference, log_scale, pbr, metallic, roughness, render, user_matrix, component, emissive, copy_mesh, backface_params, show_vertices, edge_opacity, **kwargs)\u001b[0m\n\u001b[0;32m   3761\u001b[0m \u001b[38;5;28;01mif\u001b[39;00m \u001b[38;5;28misinstance\u001b[39m(opacity, (\u001b[38;5;28mfloat\u001b[39m, \u001b[38;5;28mint\u001b[39m)):\n\u001b[0;32m   3762\u001b[0m     prop_kwargs[\u001b[38;5;124m'\u001b[39m\u001b[38;5;124mopacity\u001b[39m\u001b[38;5;124m'\u001b[39m] \u001b[38;5;241m=\u001b[39m opacity\n\u001b[1;32m-> 3763\u001b[0m prop \u001b[38;5;241m=\u001b[39m Property(\u001b[38;5;241m*\u001b[39m\u001b[38;5;241m*\u001b[39mprop_kwargs)\n\u001b[0;32m   3764\u001b[0m actor\u001b[38;5;241m.\u001b[39mSetProperty(prop)\n\u001b[0;32m   3766\u001b[0m \u001b[38;5;28;01mif\u001b[39;00m style \u001b[38;5;241m==\u001b[39m \u001b[38;5;124m'\u001b[39m\u001b[38;5;124mpoints_gaussian\u001b[39m\u001b[38;5;124m'\u001b[39m:\n",
      "File \u001b[1;32mc:\\Users\\Boris\\anaconda3\\envs\\scepter-dev\\lib\\site-packages\\pyvista\\plotting\\_property.py:185\u001b[0m, in \u001b[0;36mProperty.__init__\u001b[1;34m(self, theme, interpolation, color, style, metallic, roughness, point_size, opacity, ambient, diffuse, specular, specular_power, show_edges, edge_color, render_points_as_spheres, render_lines_as_tubes, lighting, line_width, culling, edge_opacity)\u001b[0m\n\u001b[0;32m    161\u001b[0m \u001b[38;5;28;01mdef\u001b[39;00m\u001b[38;5;250m \u001b[39m\u001b[38;5;21m__init__\u001b[39m(\n\u001b[0;32m    162\u001b[0m     \u001b[38;5;28mself\u001b[39m,\n\u001b[0;32m    163\u001b[0m     theme\u001b[38;5;241m=\u001b[39m\u001b[38;5;28;01mNone\u001b[39;00m,\n\u001b[1;32m   (...)\u001b[0m\n\u001b[0;32m    182\u001b[0m     edge_opacity\u001b[38;5;241m=\u001b[39m\u001b[38;5;28;01mNone\u001b[39;00m,\n\u001b[0;32m    183\u001b[0m ):\n\u001b[0;32m    184\u001b[0m \u001b[38;5;250m    \u001b[39m\u001b[38;5;124;03m\"\"\"Initialize this property.\"\"\"\u001b[39;00m\n\u001b[1;32m--> 185\u001b[0m     \u001b[38;5;28mself\u001b[39m\u001b[38;5;241m.\u001b[39m_theme \u001b[38;5;241m=\u001b[39m \u001b[43mpyvista\u001b[49m\u001b[38;5;241;43m.\u001b[39;49m\u001b[43mthemes\u001b[49m\u001b[38;5;241;43m.\u001b[39;49m\u001b[43mTheme\u001b[49m\u001b[43m(\u001b[49m\u001b[43m)\u001b[49m\n\u001b[0;32m    186\u001b[0m     \u001b[38;5;28;01mif\u001b[39;00m theme \u001b[38;5;129;01mis\u001b[39;00m \u001b[38;5;28;01mNone\u001b[39;00m:\n\u001b[0;32m    187\u001b[0m         \u001b[38;5;66;03m# copy global theme to ensure local property theme is fixed\u001b[39;00m\n\u001b[0;32m    188\u001b[0m         \u001b[38;5;66;03m# after creation.\u001b[39;00m\n\u001b[0;32m    189\u001b[0m         \u001b[38;5;28mself\u001b[39m\u001b[38;5;241m.\u001b[39m_theme\u001b[38;5;241m.\u001b[39mload_theme(pyvista\u001b[38;5;241m.\u001b[39mglobal_theme)\n",
      "File \u001b[1;32mc:\\Users\\Boris\\anaconda3\\envs\\scepter-dev\\lib\\site-packages\\pyvista\\plotting\\themes.py:1814\u001b[0m, in \u001b[0;36mTheme.__init__\u001b[1;34m(self)\u001b[0m\n\u001b[0;32m   1812\u001b[0m \u001b[38;5;28mself\u001b[39m\u001b[38;5;241m.\u001b[39m_transparent_background \u001b[38;5;241m=\u001b[39m \u001b[38;5;28;01mFalse\u001b[39;00m\n\u001b[0;32m   1813\u001b[0m \u001b[38;5;28mself\u001b[39m\u001b[38;5;241m.\u001b[39m_title \u001b[38;5;241m=\u001b[39m \u001b[38;5;124m'\u001b[39m\u001b[38;5;124mPyVista\u001b[39m\u001b[38;5;124m'\u001b[39m\n\u001b[1;32m-> 1814\u001b[0m \u001b[38;5;28mself\u001b[39m\u001b[38;5;241m.\u001b[39m_axes \u001b[38;5;241m=\u001b[39m \u001b[43m_AxesConfig\u001b[49m\u001b[43m(\u001b[49m\u001b[43m)\u001b[49m\n\u001b[0;32m   1815\u001b[0m \u001b[38;5;28mself\u001b[39m\u001b[38;5;241m.\u001b[39m_split_sharp_edges \u001b[38;5;241m=\u001b[39m \u001b[38;5;28;01mFalse\u001b[39;00m\n\u001b[0;32m   1816\u001b[0m \u001b[38;5;28mself\u001b[39m\u001b[38;5;241m.\u001b[39m_sharp_edges_feature_angle \u001b[38;5;241m=\u001b[39m \u001b[38;5;241m30.0\u001b[39m\n",
      "File \u001b[1;32mc:\\Users\\Boris\\anaconda3\\envs\\scepter-dev\\lib\\site-packages\\pyvista\\plotting\\themes.py:834\u001b[0m, in \u001b[0;36m_AxesConfig.__init__\u001b[1;34m(self)\u001b[0m\n\u001b[0;32m    832\u001b[0m \u001b[38;5;28;01mdef\u001b[39;00m\u001b[38;5;250m \u001b[39m\u001b[38;5;21m__init__\u001b[39m(\u001b[38;5;28mself\u001b[39m):\n\u001b[0;32m    833\u001b[0m     \u001b[38;5;28mself\u001b[39m\u001b[38;5;241m.\u001b[39m_x_color \u001b[38;5;241m=\u001b[39m Color(\u001b[38;5;124m'\u001b[39m\u001b[38;5;124mtomato\u001b[39m\u001b[38;5;124m'\u001b[39m)\n\u001b[1;32m--> 834\u001b[0m     \u001b[38;5;28mself\u001b[39m\u001b[38;5;241m.\u001b[39m_y_color \u001b[38;5;241m=\u001b[39m \u001b[43mColor\u001b[49m\u001b[43m(\u001b[49m\u001b[38;5;124;43m'\u001b[39;49m\u001b[38;5;124;43mseagreen\u001b[39;49m\u001b[38;5;124;43m'\u001b[39;49m\u001b[43m)\u001b[49m\n\u001b[0;32m    835\u001b[0m     \u001b[38;5;28mself\u001b[39m\u001b[38;5;241m.\u001b[39m_z_color \u001b[38;5;241m=\u001b[39m Color(\u001b[38;5;124m'\u001b[39m\u001b[38;5;124mmediumblue\u001b[39m\u001b[38;5;124m'\u001b[39m)\n\u001b[0;32m    836\u001b[0m     \u001b[38;5;28mself\u001b[39m\u001b[38;5;241m.\u001b[39m_box \u001b[38;5;241m=\u001b[39m \u001b[38;5;28;01mFalse\u001b[39;00m\n",
      "File \u001b[1;32mc:\\Users\\Boris\\anaconda3\\envs\\scepter-dev\\lib\\site-packages\\pyvista\\plotting\\colors.py:757\u001b[0m, in \u001b[0;36mColor.__init__\u001b[1;34m(self, color, opacity, default_color, default_opacity)\u001b[0m\n\u001b[0;32m    754\u001b[0m     \u001b[38;5;28mself\u001b[39m\u001b[38;5;241m.\u001b[39m_red, \u001b[38;5;28mself\u001b[39m\u001b[38;5;241m.\u001b[39m_green, \u001b[38;5;28mself\u001b[39m\u001b[38;5;241m.\u001b[39m_blue, \u001b[38;5;28mself\u001b[39m\u001b[38;5;241m.\u001b[39m_opacity \u001b[38;5;241m=\u001b[39m color\u001b[38;5;241m.\u001b[39mint_rgba\n\u001b[0;32m    755\u001b[0m \u001b[38;5;28;01melif\u001b[39;00m \u001b[38;5;28misinstance\u001b[39m(color, \u001b[38;5;28mstr\u001b[39m):\n\u001b[0;32m    756\u001b[0m     \u001b[38;5;66;03m# From named color or hex string\u001b[39;00m\n\u001b[1;32m--> 757\u001b[0m     \u001b[38;5;28;43mself\u001b[39;49m\u001b[38;5;241;43m.\u001b[39;49m\u001b[43m_from_str\u001b[49m\u001b[43m(\u001b[49m\u001b[43mcolor\u001b[49m\u001b[43m)\u001b[49m\n\u001b[0;32m    758\u001b[0m \u001b[38;5;28;01melif\u001b[39;00m \u001b[38;5;28misinstance\u001b[39m(color, \u001b[38;5;28mdict\u001b[39m):\n\u001b[0;32m    759\u001b[0m     \u001b[38;5;66;03m# From dictionary\u001b[39;00m\n\u001b[0;32m    760\u001b[0m     \u001b[38;5;28mself\u001b[39m\u001b[38;5;241m.\u001b[39m_from_dict(color)\n",
      "File \u001b[1;32mc:\\Users\\Boris\\anaconda3\\envs\\scepter-dev\\lib\\site-packages\\pyvista\\plotting\\colors.py:896\u001b[0m, in \u001b[0;36mColor._from_str\u001b[1;34m(self, n)\u001b[0m\n\u001b[0;32m    893\u001b[0m     \u001b[38;5;28mself\u001b[39m\u001b[38;5;241m.\u001b[39m_from_hex(hexcolors[n])\n\u001b[0;32m    894\u001b[0m \u001b[38;5;28;01melif\u001b[39;00m n \u001b[38;5;129;01min\u001b[39;00m hexcolors:\n\u001b[0;32m    895\u001b[0m     \u001b[38;5;66;03m# Color name\u001b[39;00m\n\u001b[1;32m--> 896\u001b[0m     \u001b[38;5;28;43mself\u001b[39;49m\u001b[38;5;241;43m.\u001b[39;49m\u001b[43m_from_hex\u001b[49m\u001b[43m(\u001b[49m\u001b[43mhexcolors\u001b[49m\u001b[43m[\u001b[49m\u001b[43mn\u001b[49m\u001b[43m]\u001b[49m\u001b[43m)\u001b[49m\n\u001b[0;32m    897\u001b[0m \u001b[38;5;28;01melse\u001b[39;00m:\n\u001b[0;32m    898\u001b[0m     \u001b[38;5;66;03m# Otherwise, try conversion to hex\u001b[39;00m\n\u001b[0;32m    899\u001b[0m     \u001b[38;5;28;01mtry\u001b[39;00m:\n",
      "File \u001b[1;32mc:\\Users\\Boris\\anaconda3\\envs\\scepter-dev\\lib\\site-packages\\pyvista\\plotting\\colors.py:881\u001b[0m, in \u001b[0;36mColor._from_hex\u001b[1;34m(self, h)\u001b[0m\n\u001b[0;32m    879\u001b[0m h \u001b[38;5;241m=\u001b[39m \u001b[38;5;28mself\u001b[39m\u001b[38;5;241m.\u001b[39mstrip_hex_prefix(h)\n\u001b[0;32m    880\u001b[0m \u001b[38;5;28;01mtry\u001b[39;00m:\n\u001b[1;32m--> 881\u001b[0m     \u001b[38;5;28mself\u001b[39m\u001b[38;5;241m.\u001b[39m_from_rgba([\u001b[38;5;28mself\u001b[39m\u001b[38;5;241m.\u001b[39mconvert_color_channel(h[i : i \u001b[38;5;241m+\u001b[39m \u001b[38;5;241m2\u001b[39m]) \u001b[38;5;28;01mfor\u001b[39;00m i \u001b[38;5;129;01min\u001b[39;00m \u001b[38;5;28mrange\u001b[39m(\u001b[38;5;241m0\u001b[39m, \u001b[38;5;28mlen\u001b[39m(h), \u001b[38;5;241m2\u001b[39m)])\n\u001b[0;32m    882\u001b[0m \u001b[38;5;28;01mexcept\u001b[39;00m \u001b[38;5;167;01mValueError\u001b[39;00m:\n\u001b[0;32m    883\u001b[0m     \u001b[38;5;28;01mraise\u001b[39;00m \u001b[38;5;167;01mValueError\u001b[39;00m(\u001b[38;5;124mf\u001b[39m\u001b[38;5;124m\"\u001b[39m\u001b[38;5;124mInvalid hex string: \u001b[39m\u001b[38;5;132;01m{\u001b[39;00marg\u001b[38;5;132;01m}\u001b[39;00m\u001b[38;5;124m\"\u001b[39m) \u001b[38;5;28;01mfrom\u001b[39;00m\u001b[38;5;250m \u001b[39m\u001b[38;5;28;01mNone\u001b[39;00m\n",
      "File \u001b[1;32mc:\\Users\\Boris\\anaconda3\\envs\\scepter-dev\\lib\\site-packages\\pyvista\\plotting\\colors.py:881\u001b[0m, in \u001b[0;36m<listcomp>\u001b[1;34m(.0)\u001b[0m\n\u001b[0;32m    879\u001b[0m h \u001b[38;5;241m=\u001b[39m \u001b[38;5;28mself\u001b[39m\u001b[38;5;241m.\u001b[39mstrip_hex_prefix(h)\n\u001b[0;32m    880\u001b[0m \u001b[38;5;28;01mtry\u001b[39;00m:\n\u001b[1;32m--> 881\u001b[0m     \u001b[38;5;28mself\u001b[39m\u001b[38;5;241m.\u001b[39m_from_rgba([\u001b[38;5;28;43mself\u001b[39;49m\u001b[38;5;241;43m.\u001b[39;49m\u001b[43mconvert_color_channel\u001b[49m\u001b[43m(\u001b[49m\u001b[43mh\u001b[49m\u001b[43m[\u001b[49m\u001b[43mi\u001b[49m\u001b[43m \u001b[49m\u001b[43m:\u001b[49m\u001b[43m \u001b[49m\u001b[43mi\u001b[49m\u001b[43m \u001b[49m\u001b[38;5;241;43m+\u001b[39;49m\u001b[43m \u001b[49m\u001b[38;5;241;43m2\u001b[39;49m\u001b[43m]\u001b[49m\u001b[43m)\u001b[49m \u001b[38;5;28;01mfor\u001b[39;00m i \u001b[38;5;129;01min\u001b[39;00m \u001b[38;5;28mrange\u001b[39m(\u001b[38;5;241m0\u001b[39m, \u001b[38;5;28mlen\u001b[39m(h), \u001b[38;5;241m2\u001b[39m)])\n\u001b[0;32m    882\u001b[0m \u001b[38;5;28;01mexcept\u001b[39;00m \u001b[38;5;167;01mValueError\u001b[39;00m:\n\u001b[0;32m    883\u001b[0m     \u001b[38;5;28;01mraise\u001b[39;00m \u001b[38;5;167;01mValueError\u001b[39;00m(\u001b[38;5;124mf\u001b[39m\u001b[38;5;124m\"\u001b[39m\u001b[38;5;124mInvalid hex string: \u001b[39m\u001b[38;5;132;01m{\u001b[39;00marg\u001b[38;5;132;01m}\u001b[39;00m\u001b[38;5;124m\"\u001b[39m) \u001b[38;5;28;01mfrom\u001b[39;00m\u001b[38;5;250m \u001b[39m\u001b[38;5;28;01mNone\u001b[39;00m\n",
      "File \u001b[1;32mc:\\Users\\Boris\\anaconda3\\envs\\scepter-dev\\lib\\site-packages\\pyvista\\plotting\\colors.py:845\u001b[0m, in \u001b[0;36mColor.convert_color_channel\u001b[1;34m(val)\u001b[0m\n\u001b[0;32m    840\u001b[0m \u001b[38;5;28;01melif\u001b[39;00m np\u001b[38;5;241m.\u001b[39missubdtype(np\u001b[38;5;241m.\u001b[39masarray(val)\u001b[38;5;241m.\u001b[39mdtype, np\u001b[38;5;241m.\u001b[39mfloating) \u001b[38;5;129;01mand\u001b[39;00m np\u001b[38;5;241m.\u001b[39mndim(val) \u001b[38;5;241m==\u001b[39m \u001b[38;5;241m0\u001b[39m:\n\u001b[0;32m    841\u001b[0m     \u001b[38;5;66;03m# From float\u001b[39;00m\n\u001b[0;32m    842\u001b[0m     val \u001b[38;5;241m=\u001b[39m \u001b[38;5;28mint\u001b[39m(\u001b[38;5;28mround\u001b[39m(\u001b[38;5;241m255\u001b[39m \u001b[38;5;241m*\u001b[39m val))\n\u001b[0;32m    843\u001b[0m \u001b[38;5;28;01mif\u001b[39;00m (\n\u001b[0;32m    844\u001b[0m     np\u001b[38;5;241m.\u001b[39missubdtype(np\u001b[38;5;241m.\u001b[39masarray(val)\u001b[38;5;241m.\u001b[39mdtype, np\u001b[38;5;241m.\u001b[39minteger)\n\u001b[1;32m--> 845\u001b[0m     \u001b[38;5;129;01mand\u001b[39;00m \u001b[43mnp\u001b[49m\u001b[38;5;241;43m.\u001b[39;49m\u001b[43msize\u001b[49m\u001b[43m(\u001b[49m\u001b[43mval\u001b[49m\u001b[43m)\u001b[49m \u001b[38;5;241m==\u001b[39m \u001b[38;5;241m1\u001b[39m\n\u001b[0;32m    846\u001b[0m     \u001b[38;5;129;01mand\u001b[39;00m \u001b[38;5;241m0\u001b[39m \u001b[38;5;241m<\u001b[39m\u001b[38;5;241m=\u001b[39m val \u001b[38;5;241m<\u001b[39m\u001b[38;5;241m=\u001b[39m \u001b[38;5;241m255\u001b[39m\n\u001b[0;32m    847\u001b[0m ):\n\u001b[0;32m    848\u001b[0m     \u001b[38;5;66;03m# From integer\u001b[39;00m\n\u001b[0;32m    849\u001b[0m     \u001b[38;5;28;01mreturn\u001b[39;00m \u001b[38;5;28mint\u001b[39m(val)\n\u001b[0;32m    850\u001b[0m \u001b[38;5;28;01melse\u001b[39;00m:\n",
      "File \u001b[1;32m<__array_function__ internals>:180\u001b[0m, in \u001b[0;36msize\u001b[1;34m(*args, **kwargs)\u001b[0m\n",
      "File \u001b[1;32mc:\\Users\\Boris\\anaconda3\\envs\\scepter-dev\\lib\\site-packages\\numpy\\core\\fromnumeric.py:3202\u001b[0m, in \u001b[0;36msize\u001b[1;34m(a, axis)\u001b[0m\n\u001b[0;32m   3200\u001b[0m         \u001b[38;5;28;01mreturn\u001b[39;00m a\u001b[38;5;241m.\u001b[39msize\n\u001b[0;32m   3201\u001b[0m     \u001b[38;5;28;01mexcept\u001b[39;00m \u001b[38;5;167;01mAttributeError\u001b[39;00m:\n\u001b[1;32m-> 3202\u001b[0m         \u001b[38;5;28;01mreturn\u001b[39;00m \u001b[43masarray\u001b[49m\u001b[43m(\u001b[49m\u001b[43ma\u001b[49m\u001b[43m)\u001b[49m\u001b[38;5;241m.\u001b[39msize\n\u001b[0;32m   3203\u001b[0m \u001b[38;5;28;01melse\u001b[39;00m:\n\u001b[0;32m   3204\u001b[0m     \u001b[38;5;28;01mtry\u001b[39;00m:\n",
      "\u001b[1;31mKeyboardInterrupt\u001b[0m: "
     ]
    }
   ],
   "source": [
    "EarthMesh=pv.examples.planets.load_earth()\n",
    "EarthMesh.scale(R_earth.to(u.km).value, inplace=True)\n",
    "earth_texture = pv.examples.load_globe_texture()\n",
    "theta_deg_correction = np.degrees(np.arctan2(obs_eci_pos[0,0,0,1], obs_eci_pos[0,0,0,0])) - longitude.to(u.deg).value\n",
    "EarthMesh.rotate_z(-180+theta_deg_correction, point=(0,0,0), inplace=True)\n",
    "\n",
    "pl = pv.Plotter(off_screen=True)\n",
    "pl.window_size = [1280, 720]\n",
    "\n",
    "if SKYBOX:\n",
    "    cubemap = pv.examples.download_cubemap_space_16k()\n",
    "    _ = pl.add_actor(cubemap.to_skybox())\n",
    "    pl.set_environment_texture(cubemap, True)\n",
    "else:    \n",
    "    image_path = pv.examples.planets.download_stars_sky_background(load=False)\n",
    "    pl.add_background_image(image_path)\n",
    "\n",
    "\n",
    "earth_actor = pl.add_mesh(\n",
    "    EarthMesh,\n",
    "    texture=earth_texture,\n",
    "    smooth_shading=True,\n",
    "    name=\"Earth\"\n",
    ")\n",
    "\n",
    "# RAS Station visualisation\n",
    "station_sphere = pv.Sphere(radius=100)\n",
    "station_actor = pl.add_mesh(\n",
    "    station_sphere,\n",
    "    color='magenta',\n",
    "    smooth_shading=True,\n",
    "    name=\"SKAO RAS station\"\n",
    ")\n",
    "new_pos = obs_eci_pos[0,0,0,:]\n",
    "station_actor.SetPosition(float(new_pos[0]), float(new_pos[1]), float(new_pos[2]))\n",
    "\n",
    "# Satellites\n",
    "satellite_sphere = pv.Sphere(radius=50)\n",
    "satellite_actors=[]\n",
    "for sidx in tqdm(range(n_sats), desc='Preparing satellites:'):\n",
    "    satellite_actor = pl.add_mesh(\n",
    "        satellite_sphere,\n",
    "        color='blue',\n",
    "        smooth_shading=True,\n",
    "        name=tle_list[sidx].name\n",
    "    )    \n",
    "    satellite_actor.SetPosition(sat_eci_pos[0,0,sidx,0], sat_eci_pos[0,0,sidx,1], sat_eci_pos[0,0,sidx,2])\n",
    "    satellite_actors.append(satellite_actor)\n",
    "\n",
    "\n",
    "# Camera control block\n",
    "sph_cam = SphericalRepresentation(\n",
    "    longitude+theta_deg_correction*u.deg,    # longitude\n",
    "    latitude/2,    # latitude\n",
    "    distance=R_earth*5\n",
    ")\n",
    "cart_cam = sph_cam.represent_as(CartesianRepresentation)\n",
    "\n",
    "pl.camera_position = [\n",
    "    (cart_cam.x.to(u.km).value, cart_cam.y.to(u.km).value, cart_cam.z.to(u.km).value),  # camera\n",
    "    (0, 0, 0),                # focal point\n",
    "    (0, 0, 1)                 # view-up vector\n",
    "]\n",
    "\n",
    "pl.render_window.SetOffScreenRendering(True)\n",
    "pl.render_window.SetUseOffScreenBuffers(True)\n",
    "\n",
    "rot_angle = 360 * timestep / 86400.0\n",
    "\n",
    "if SAVE_MOVIE :\n",
    "    pl.open_movie(\"earth_station_anim.mp4\", framerate=60, quality=5, codec='h264_nvenc', bitrate=\"10M\") # h264_nvenc only works with Nvidia GPU. Need to change to 'h264_amf' for AMD or 'h264_qsv' for Intel\n",
    "    for i in tqdm(range(n_times), desc='Processing animation frames:'):\n",
    "        # 1) Apply rotation to Earth mesh to simulate Earth rotation\n",
    "        EarthMesh.rotate_z(rot_angle, point=(0,0,0), inplace=True)\n",
    "\n",
    "        # 1.1) Simulate ECEF frame by rotating camera ensuring its longitude is the same as the RAS station\n",
    "        total_rot_angle=rot_angle*i\n",
    "        sph_cam = SphericalRepresentation(\n",
    "            longitude+(theta_deg_correction+total_rot_angle)*u.deg,    # longitude\n",
    "            latitude/2,    # latitude\n",
    "            distance=R_earth*5\n",
    "        )\n",
    "        cart_cam = sph_cam.represent_as(CartesianRepresentation)\n",
    "        pl.camera_position = [\n",
    "            (cart_cam.x.to(u.km).value, cart_cam.y.to(u.km).value, cart_cam.z.to(u.km).value),  # camera\n",
    "            (0, 0, 0),                # focal point\n",
    "            (0, 0, 1)                 # view-up vector\n",
    "        ]\n",
    "\n",
    "        # 2) Update RASstation position\n",
    "        station_actor.SetPosition(obs_eci_pos[i,0,0,0], obs_eci_pos[i,0,0,1], obs_eci_pos[i,0,0,2])\n",
    "\n",
    "        # 3) Update satellites positions\n",
    "        for sidx, satellite_actor in enumerate(satellite_actors):\n",
    "            satellite_actor.SetPosition(sat_eci_pos[i,0,sidx,0], sat_eci_pos[i,0,sidx,1], sat_eci_pos[i,0,sidx,2])\n",
    "\n",
    "        # 4) Render and write frame\n",
    "        pl.render()\n",
    "        pl.write_frame()\n",
    "    pl.close()\n",
    "else:\n",
    "    # 1) Apply rotation to Earth mesh to simulate Earth rotation\n",
    "    total_rot_angle=rot_angle*n_times\n",
    "    EarthMesh.rotate_z(total_rot_angle, point=(0,0,0), inplace=True) \n",
    "    # 1.1) Simulate ECEF frame by rotating camera ensuring its longitude is the same as the RAS station   \n",
    "    sph_cam = SphericalRepresentation(\n",
    "        longitude+(theta_deg_correction+total_rot_angle)*u.deg,    # longitude\n",
    "        latitude/2,    # latitude\n",
    "        distance=R_earth*5\n",
    "    )\n",
    "    cart_cam = sph_cam.represent_as(CartesianRepresentation)\n",
    "    pl.camera_position = [\n",
    "        (cart_cam.x.to(u.km).value, cart_cam.y.to(u.km).value, cart_cam.z.to(u.km).value),  # camera\n",
    "        (0, 0, 0),                # focal point\n",
    "        (0, 0, 1)                 # view-up vector\n",
    "    ]\n",
    "    # 2) Update RASstation position\n",
    "    station_actor.SetPosition(obs_eci_pos[-1,0,0,0], obs_eci_pos[-1,0,0,1], obs_eci_pos[-1,0,0,2])\n",
    "\n",
    "    \n",
    "    # 3) Update satellites positions\n",
    "    for sidx, satellite_actor in enumerate(satellite_actors):\n",
    "        satellite_actor.SetPosition(sat_eci_pos[-1,0,sidx,0], sat_eci_pos[-1,0,sidx,1], sat_eci_pos[-1,0,sidx,2])\n",
    "\n",
    "    # 4) Render and show scene\n",
    "    pl.show()"
   ]
  }
 ],
 "metadata": {
  "kernelspec": {
   "display_name": "scepter-dev",
   "language": "python",
   "name": "python3"
  },
  "language_info": {
   "codemirror_mode": {
    "name": "ipython",
    "version": 3
   },
   "file_extension": ".py",
   "mimetype": "text/x-python",
   "name": "python",
   "nbconvert_exporter": "python",
   "pygments_lexer": "ipython3",
   "version": "3.10.16"
  }
 },
 "nbformat": 4,
 "nbformat_minor": 2
}
