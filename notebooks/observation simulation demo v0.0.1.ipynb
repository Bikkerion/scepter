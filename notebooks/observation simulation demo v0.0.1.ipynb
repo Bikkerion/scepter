{
 "cells": [
  {
   "cell_type": "code",
   "execution_count": 1,
   "id": "b14a62dc",
   "metadata": {},
   "outputs": [],
   "source": [
    "from importlib import reload  \n",
    "import numpy as np\n",
    "import matplotlib.pyplot as plt\n",
    "import pycraf\n",
    "import cysgp4\n",
    "from pycraf import conversions as cnv\n",
    "from pycraf import protection, antenna, geometry\n",
    "from astropy import units as u, constants as const\n",
    "from scepter import skynet,obs\n",
    "from astropy import coordinates as coord\n",
    "\n"
   ]
  },
  {
   "cell_type": "code",
   "execution_count": 2,
   "id": "b226d986",
   "metadata": {},
   "outputs": [
    {
     "name": "stdout",
     "output_type": "stream",
     "text": [
      "GeodeticLocation(lon=<Longitude 148.26351001 deg>, lat=<Latitude -32.9984064 deg>, height=<Quantity 414.75974971 m>)\n"
     ]
    }
   ],
   "source": [
    "\n",
    "###reload here\n",
    "reload(skynet)\n",
    "reload(obs)\n",
    "\n",
    "### we're testing with the ie613 lofar station location\n",
    "longitude = 7.9219 * u.deg\n",
    "latitude = 53.0950 * u.deg\n",
    "elevation = 72.0 * u.m\n",
    "observatory1=cysgp4.PyObserver(longitude.value,latitude.value,elevation.to(u.km).value)\n",
    "parkes=coord.EarthLocation.of_site('Parkes')\n",
    "print(parkes.geodetic)\n",
    "longitude = parkes.geodetic.lon\n",
    "latitude = parkes.geodetic.lat\n",
    "elevation = parkes.geodetic.height\n",
    "observatory2=cysgp4.PyObserver(longitude.value,latitude.value,elevation.to(u.km).value)"
   ]
  },
  {
   "cell_type": "code",
   "execution_count": 3,
   "id": "6e059b98",
   "metadata": {},
   "outputs": [
    {
     "name": "stdout",
     "output_type": "stream",
     "text": [
      "frequency bandwidth T_A T_rx T_rms  P_rms_nu   Plim   Plim_nu      Slim        Slim_nu        Efield    Efield_norm \n",
      "   MHz       MHz     K   K     mK  dB(W / Hz) dB(W)  dB(W / Hz) dB(W / m2) dB(W / (Hz m2)) dB(uV2 / m2) dB(uV2 / m2)\n",
      "--------- --------- --- ---- ----- ---------- ------ ---------- ---------- --------------- ------------ ------------\n",
      "     1414        27  12   10 0.095     -268.8 -204.5     -278.8     -180.1          -254.4        -34.3        -48.6\n"
     ]
    }
   ],
   "source": [
    "\n",
    "\n",
    "\n",
    "obsmode='continuum'\n",
    "ras_df = protection.ra769_limits(mode=obsmode).to_pandas() # 150 MHz RAS band\n",
    "ras_tab = protection.ra769_limits(mode='continuum')[7] # 1.4 GHz RAS band\n",
    "# print(ras_df)\n",
    "print(ras_tab)\n",
    "# Rx (RAS) parameters\n",
    "eta_a_rx = 100 * u.percent"
   ]
  },
  {
   "cell_type": "markdown",
   "id": "a805d9e8",
   "metadata": {},
   "source": [
    "### simulate telescope pointing grid"
   ]
  },
  {
   "cell_type": "code",
   "execution_count": 4,
   "id": "705acd5a",
   "metadata": {},
   "outputs": [
    {
     "name": "stdout",
     "output_type": "stream",
     "text": [
      "(5, 1146)\n",
      "27.0 MHz\n"
     ]
    }
   ],
   "source": [
    "min_elevation = 30 * u.deg\n",
    "grid_size = 3. * u.deg\n",
    "npoints=5 ##pointing per cell\n",
    "skygrid = skynet.pointgen(niters=5,\n",
    "    step_size=grid_size,\n",
    "    lat_range=(min_elevation, 90 * u.deg),\n",
    "    rnd_seed=0,\n",
    "    )\n",
    "\n",
    "tel_az, tel_el, grid_info = skygrid \n",
    "# print('-' * 80)\n",
    "# print('Minimum elevation: {0:.2f}'.format(min_elevation))\n",
    "# print('Number of cells: {0:d}'.format(len(grid_info)))\n",
    "# print('-' * 80)\n",
    "# ncell=len(grid_info)\n",
    "print(tel_az.shape)\n",
    "## match dimensions of this simulation\n",
    "# tel_az=tel_az[:,np.newaxis,np.newaxis,np.newaxis]\n",
    "# tel_el=tel_el[:,np.newaxis,np.newaxis,np.newaxis]\n",
    "\n",
    "freq = ras_tab['frequency']\n",
    "\n",
    "p_lim = ras_tab['Plim']\n",
    "pfd_lim = ras_tab['Slim']\n",
    "ras_bandwidth = ras_tab['bandwidth']\n",
    "margin = 0\n",
    "\n",
    "p_tx_carrier = (-44+margin) * cnv.dBm #CISPR22 maximum emission at 150 MHz is -44 dBm\n",
    "carrier_bandwidth = ras_tab['bandwidth'] #this is not specified in the french section...\n",
    "duty_cycle = 100 * u.percent\n",
    "print(ras_bandwidth)\n",
    "\n",
    "# freq=10.4*u.GHz\n"
   ]
  },
  {
   "cell_type": "markdown",
   "id": "2f539c04",
   "metadata": {},
   "source": [
    "### set up transmitter class"
   ]
  },
  {
   "cell_type": "code",
   "execution_count": 5,
   "id": "27bc3b71",
   "metadata": {},
   "outputs": [
    {
     "name": "stdout",
     "output_type": "stream",
     "text": [
      "-44.0 dB(mW)\n"
     ]
    }
   ],
   "source": [
    "tx=obs.transmitter_info(p_tx_carrier, carrier_bandwidth, duty_cycle, d_tx=1*u.m,freq=freq)\n",
    "p_tx=tx.power_tx(ras_bandwidth)\n",
    "print(p_tx)"
   ]
  },
  {
   "cell_type": "code",
   "execution_count": 6,
   "id": "349adc4b",
   "metadata": {},
   "outputs": [
    {
     "name": "stdout",
     "output_type": "stream",
     "text": [
      "1d gain pattern of transmitter at phi = 30 is 8.337217533032337 dB\n"
     ]
    }
   ],
   "source": [
    "gain=tx.satgain1d(30*u.deg)\n",
    "print(f'1d gain pattern of transmitter at phi = 30 is {gain}')"
   ]
  },
  {
   "cell_type": "markdown",
   "id": "bfb74302",
   "metadata": {},
   "source": [
    "### set up receiver class"
   ]
  },
  {
   "cell_type": "code",
   "execution_count": 7,
   "id": "281b02b9",
   "metadata": {},
   "outputs": [],
   "source": [
    "dish=100*u.m\n",
    "eta=0.7 *100*u.percent ## in percentage\n",
    "### frequency band\n",
    "## transmitter parameters\n",
    "sat_antenna=0.1*u.m\n",
    "### observatory list will be passed on internally like this\n",
    "observers = np.array([observatory1,observatory2\n",
    "    ])\n",
    "rx=obs.receiver_info(dish,eta,observers,freq,bandwidth=ras_bandwidth)"
   ]
  },
  {
   "cell_type": "code",
   "execution_count": 8,
   "id": "2a172e04",
   "metadata": {},
   "outputs": [
    {
     "data": {
      "text/plain": [
       "array([<PyObserver: 7.9219d, 53.0950d, 0.0720km>,\n",
       "       <PyObserver: 148.2635d, -32.9984d, 0.4148km>], dtype=object)"
      ]
     },
     "execution_count": 8,
     "metadata": {},
     "output_type": "execute_result"
    }
   ],
   "source": [
    "rx.location  ### observatory information is saved here"
   ]
  },
  {
   "cell_type": "code",
   "execution_count": 9,
   "id": "e9ecb213",
   "metadata": {},
   "outputs": [],
   "source": [
    "###load some tle from starlink\n",
    "import requests\n",
    "url = 'https://celestrak.org/NORAD/elements/gp.php?GROUP=starlink&FORMAT=tle'\n",
    "ctrak_starlink = requests.get(url).text\n",
    "\n",
    "tle_list = cysgp4.tle_tuples_from_text(ctrak_starlink)\n",
    "\n",
    "# tle_list"
   ]
  },
  {
   "cell_type": "code",
   "execution_count": 10,
   "id": "95981a59",
   "metadata": {},
   "outputs": [
    {
     "name": "stdout",
     "output_type": "stream",
     "text": [
      "(1, 1, 1, 2, 100, 1)\n"
     ]
    }
   ],
   "source": [
    "### set time and simulation settings\n",
    "\n",
    "niters = 2\n",
    "pydt = cysgp4.PyDateTime() ## take current date and time\n",
    "start_times_window = 24 * u.hour\n",
    "time_range, time_resol = 100*u.s, 1*u.s  # seconds\n",
    "epochiters=time_range/time_resol\n",
    "\n",
    "# print(start_times,td)\n",
    "mjds = skynet.plantime(niters,start_times_window,time_range,time_resol,pydt)\n",
    "print(mjds.shape)"
   ]
  },
  {
   "cell_type": "code",
   "execution_count": 11,
   "id": "ac616157",
   "metadata": {},
   "outputs": [
    {
     "name": "stdout",
     "output_type": "stream",
     "text": [
      "we are simulating 500 satellites over 2.0 days,\n",
      "each day/epoch contains 100.0 iterations over with 100.0 s seconds\n",
      "<class 'numpy.ndarray'>\n"
     ]
    }
   ],
   "source": [
    "tles = np.array([\n",
    "    cysgp4.PyTle(*tle) for tle in tle_list\n",
    "    ])[:500]  # use which TLEs\n",
    "\n",
    "print (f'we are simulating {tles.shape[0]} satellites over {niters*start_times_window.to_value(u.day)} days,')\n",
    "print(f'each day/epoch contains {epochiters} iterations over with {time_range} seconds')\n",
    "\n",
    "print(type(tles))"
   ]
  },
  {
   "cell_type": "code",
   "execution_count": 12,
   "id": "bbdd1590",
   "metadata": {},
   "outputs": [],
   "source": [
    "simulator=obs.obs_sim(tx,rx,tles,skygrid,mjds)\n"
   ]
  },
  {
   "cell_type": "code",
   "execution_count": 13,
   "id": "ecd3e715",
   "metadata": {},
   "outputs": [
    {
     "name": "stdout",
     "output_type": "stream",
     "text": [
      "(2, 1, 1, 1, 1, 1) (1, 1, 1, 1, 1, 500) (1, 1, 1, 2, 100, 1)\n",
      "Obtaining satellite and time information, propagation for large arrays may take a while...\n",
      "Done. Satellite coordinates obtained\n"
     ]
    }
   ],
   "source": [
    "simulator.populate()\n",
    "\n"
   ]
  },
  {
   "cell_type": "code",
   "execution_count": 14,
   "id": "3d3ebec1",
   "metadata": {},
   "outputs": [
    {
     "name": "stdout",
     "output_type": "stream",
     "text": [
      "(2, 1, 1, 2, 100, 500)\n"
     ]
    }
   ],
   "source": [
    "satinfo=simulator.sat_info\n",
    "\n",
    "print(simulator.topo_pos_az.shape)"
   ]
  },
  {
   "cell_type": "markdown",
   "id": "9ecf07f0",
   "metadata": {},
   "source": [
    "### calculate beam pointing in satellite reference frame compared to observatory location"
   ]
  },
  {
   "cell_type": "code",
   "execution_count": 15,
   "id": "f30536ae",
   "metadata": {},
   "outputs": [
    {
     "name": "stdout",
     "output_type": "stream",
     "text": [
      "(2, 1, 1, 2, 100, 500) (2, 1, 1, 2, 100, 500)\n"
     ]
    }
   ],
   "source": [
    "ang_sep,delta_az,delta_el,obs_dist=obs.sat_frame_pointing(sat_info=simulator.sat_info,beam_el=20,beam_az=0)\n",
    "ang_sep=simulator.txbeam_angsep(beam_az=20,beam_el=0)\n",
    "\n",
    "print(ang_sep.shape,obs_dist.shape)"
   ]
  },
  {
   "cell_type": "markdown",
   "id": "7e2cb957",
   "metadata": {},
   "source": [
    "### calculate gain in observatory direction using 1d antenna pattern"
   ]
  },
  {
   "cell_type": "code",
   "execution_count": 16,
   "id": "cd340b08",
   "metadata": {},
   "outputs": [],
   "source": [
    "gtx=tx.satgain1d(ang_sep) \n"
   ]
  },
  {
   "cell_type": "markdown",
   "id": "77573413",
   "metadata": {},
   "source": [
    "### apply free space path loss over distance"
   ]
  },
  {
   "cell_type": "code",
   "execution_count": 17,
   "id": "e19c11a4",
   "metadata": {},
   "outputs": [],
   "source": [
    "sat_power=tx.fspl(obs_dist*u.km,gtx)"
   ]
  },
  {
   "cell_type": "code",
   "execution_count": 18,
   "id": "cb2db375",
   "metadata": {},
   "outputs": [
    {
     "data": {
      "text/latex": [
       "$[[[[[-229.53168,~-207.62973,~-208.77575,~\\dots,~-210.70546,~-201.46549,~-208.55843],~\n",
       "    [-229.543,~-207.62016,~-208.78577,~\\dots,~-210.7038,~-201.4531,~-208.52641],~\n",
       "    [-229.55431,~-207.6106,~-208.79578,~\\dots,~-210.70213,~-201.44077,~-208.49445],~\n",
       "    \\dots,~\n",
       "    [-230.5671,~-206.72154,~-209.71344,~\\dots,~-210.50694,~-200.5563,~-205.73354],~\n",
       "    [-230.57715,~-206.71252,~-209.72272,~\\dots,~-210.50449,~-200.55001,~-205.7074],~\n",
       "    [-230.58719,~-206.70351,~-209.73199,~\\dots,~-210.50204,~-200.54378,~-205.68132]],~\n",
       "\n",
       "   [[-233.01522,~-205.60633,~-212.21789,~\\dots,~-209.01361,~-201.44737,~-200.5076],~\n",
       "    [-233.02252,~-205.60537,~-212.2243,~\\dots,~-209.00832,~-201.45974,~-200.50107],~\n",
       "    [-233.02981,~-205.60445,~-212.2307,~\\dots,~-209.00303,~-201.47217,~-200.49459],~\n",
       "    \\dots,~\n",
       "    [-233.68726,~-205.68648,~-212.79843,~\\dots,~-208.45637,~-202.91424,~-200.15331],~\n",
       "    [-233.69382,~-205.6891,~-212.80399,~\\dots,~-208.45015,~-202.93214,~-200.1526],~\n",
       "    [-233.70038,~-205.69175,~-212.80954,~\\dots,~-208.44392,~-202.95009,~-200.15194]]]]] \\; \\mathrm{dB}$$\\mathrm{\\left( \\mathrm{mW} \\right)}$"
      ],
      "text/plain": [
       "<Decibel [[[[[-229.53168347, -207.62972824, -208.77575334, ...,\n",
       "              -210.70546472, -201.46549154, -208.55843006],\n",
       "             [-229.54300146, -207.62016467, -208.78577101, ...,\n",
       "              -210.70380212, -201.45310181, -208.52640761],\n",
       "             [-229.55430543, -207.61060274, -208.7957821 , ...,\n",
       "              -210.70213165, -201.44077496, -208.49444521],\n",
       "             ...,\n",
       "             [-230.56710155, -206.72154044, -209.71343795, ...,\n",
       "              -210.50693668, -200.55630432, -205.73354212],\n",
       "             [-230.57715066, -206.71252107, -209.72271613, ...,\n",
       "              -210.50449257, -200.55000898, -205.70739864],\n",
       "             [-230.58718766, -206.70351187, -209.73198585, ...,\n",
       "              -210.50204024, -200.54377639, -205.68131634]],\n",
       "\n",
       "            [[-233.01522329, -205.60632895, -212.21788989, ...,\n",
       "              -209.01361134, -201.44736716, -200.50759937],\n",
       "             [-233.02252137, -205.60537323, -212.22429714, ...,\n",
       "              -209.00832348, -201.45973965, -200.50106545],\n",
       "             [-233.02981141, -205.60445449, -212.23069556, ...,\n",
       "              -209.00302633, -201.47216996, -200.49459168],\n",
       "             ...,\n",
       "             [-233.687256  , -205.68647996, -212.79843435, ...,\n",
       "              -208.45637222, -202.91423598, -200.15331477],\n",
       "             [-233.69382331, -205.68909765, -212.80398944, ...,\n",
       "              -208.45015117, -202.93213732, -200.15259647],\n",
       "             [-233.70038359, -205.69175061, -212.80953578, ...,\n",
       "              -208.4439202 , -202.95009474, -200.15193786]]]]] dB(mW)>"
      ]
     },
     "execution_count": 18,
     "metadata": {},
     "output_type": "execute_result"
    }
   ],
   "source": [
    "sat_power[0]"
   ]
  },
  {
   "cell_type": "code",
   "execution_count": null,
   "id": "878eb729",
   "metadata": {},
   "outputs": [],
   "source": []
  },
  {
   "cell_type": "code",
   "execution_count": null,
   "id": "8b51d275",
   "metadata": {},
   "outputs": [],
   "source": []
  },
  {
   "cell_type": "markdown",
   "id": "6c307a9c",
   "metadata": {},
   "source": [
    "### loop all cells"
   ]
  },
  {
   "cell_type": "code",
   "execution_count": 24,
   "id": "4317a901",
   "metadata": {},
   "outputs": [
    {
     "name": "stdout",
     "output_type": "stream",
     "text": [
      "loop this for all 5 pointings\n",
      "running pointing grid.....\n",
      "Obtaining satellite and telescope pointing coordinates, calculation for large arrays may take a while...\n",
      "Done. putting angular separation into gain pattern function\n"
     ]
    },
    {
     "ename": "KeyboardInterrupt",
     "evalue": "",
     "output_type": "error",
     "traceback": [
      "\u001b[0;31m---------------------------------------------------------------------------\u001b[0m",
      "\u001b[0;31mKeyboardInterrupt\u001b[0m                         Traceback (most recent call last)",
      "Cell \u001b[0;32mIn[24], line 8\u001b[0m\n\u001b[1;32m      5\u001b[0m \u001b[38;5;28mprint\u001b[39m(\u001b[38;5;124m'\u001b[39m\u001b[38;5;124mrunning pointing grid.....\u001b[39m\u001b[38;5;124m'\u001b[39m)\n\u001b[1;32m      7\u001b[0m grx\u001b[38;5;241m=\u001b[39mrx\u001b[38;5;241m.\u001b[39mantgain1d(tp_az\u001b[38;5;241m=\u001b[39msimulator\u001b[38;5;241m.\u001b[39mtel_az,tp_el\u001b[38;5;241m=\u001b[39msimulator\u001b[38;5;241m.\u001b[39mtel_el,sat_obs_az\u001b[38;5;241m=\u001b[39msimulator\u001b[38;5;241m.\u001b[39mtopo_pos_az,sat_obs_el\u001b[38;5;241m=\u001b[39msimulator\u001b[38;5;241m.\u001b[39mtopo_pos_el)\n\u001b[0;32m----> 8\u001b[0m readout\u001b[38;5;241m=\u001b[39m\u001b[43mobs\u001b[49m\u001b[38;5;241;43m.\u001b[39;49m\u001b[43mprx_cnv\u001b[49m\u001b[43m(\u001b[49m\u001b[43msat_power\u001b[49m\u001b[43m,\u001b[49m\u001b[43mgrx\u001b[49m\u001b[43m,\u001b[49m\u001b[43m \u001b[49m\u001b[43moutunit\u001b[49m\u001b[38;5;241;43m=\u001b[39;49m\u001b[43mu\u001b[49m\u001b[38;5;241;43m.\u001b[39;49m\u001b[43mW\u001b[49m\u001b[43m)\u001b[49m\n\u001b[1;32m      9\u001b[0m \u001b[38;5;28mprint\u001b[39m(readout\u001b[38;5;241m.\u001b[39mshape)\n\u001b[1;32m     11\u001b[0m totalprx\u001b[38;5;241m=\u001b[39mreadout\u001b[38;5;241m.\u001b[39msum(\u001b[38;5;241m4\u001b[39m)\n",
      "File \u001b[0;32m~/scepter/scepter/obs.py:355\u001b[0m, in \u001b[0;36mprx_cnv\u001b[0;34m(pwr, g_rx, outunit)\u001b[0m\n\u001b[1;32m    337\u001b[0m \u001b[38;5;250m\u001b[39m\u001b[38;5;124;03m'''\u001b[39;00m\n\u001b[1;32m    338\u001b[0m \u001b[38;5;124;03mdescription: Calculates the received power with the receiver gain response. \u001b[39;00m\n\u001b[1;32m    339\u001b[0m \u001b[38;5;124;03mUses the observing pointing and source coordinates to determine the gain.\u001b[39;00m\n\u001b[0;32m   (...)\u001b[0m\n\u001b[1;32m    351\u001b[0m \u001b[38;5;124;03m        received power in linear space (W)\u001b[39;00m\n\u001b[1;32m    352\u001b[0m \u001b[38;5;124;03m'''\u001b[39;00m\n\u001b[1;32m    354\u001b[0m p_db \u001b[38;5;241m=\u001b[39m pwr \u001b[38;5;241m+\u001b[39m g_rx\n\u001b[0;32m--> 355\u001b[0m p_rx \u001b[38;5;241m=\u001b[39m \u001b[43mp_db\u001b[49m\u001b[38;5;241;43m.\u001b[39;49m\u001b[43mto\u001b[49m\u001b[43m(\u001b[49m\u001b[43moutunit\u001b[49m\u001b[43m)\u001b[49m \u001b[38;5;66;03m## convert to unit needed\u001b[39;00m\n\u001b[1;32m    356\u001b[0m \u001b[38;5;28;01mreturn\u001b[39;00m p_rx\n",
      "File \u001b[0;32m~/miniconda3/envs/pycraf-env/lib/python3.10/site-packages/astropy/units/quantity.py:938\u001b[0m, in \u001b[0;36mQuantity.to\u001b[0;34m(self, unit, equivalencies, copy)\u001b[0m\n\u001b[1;32m    934\u001b[0m unit \u001b[38;5;241m=\u001b[39m Unit(unit)\n\u001b[1;32m    935\u001b[0m \u001b[38;5;28;01mif\u001b[39;00m copy:\n\u001b[1;32m    936\u001b[0m     \u001b[38;5;66;03m# Avoid using to_value to ensure that we make a copy. We also\u001b[39;00m\n\u001b[1;32m    937\u001b[0m     \u001b[38;5;66;03m# don't want to slow down this method (esp. the scalar case).\u001b[39;00m\n\u001b[0;32m--> 938\u001b[0m     value \u001b[38;5;241m=\u001b[39m \u001b[38;5;28;43mself\u001b[39;49m\u001b[38;5;241;43m.\u001b[39;49m\u001b[43m_to_value\u001b[49m\u001b[43m(\u001b[49m\u001b[43munit\u001b[49m\u001b[43m,\u001b[49m\u001b[43m \u001b[49m\u001b[43mequivalencies\u001b[49m\u001b[43m)\u001b[49m\n\u001b[1;32m    939\u001b[0m \u001b[38;5;28;01melse\u001b[39;00m:\n\u001b[1;32m    940\u001b[0m     \u001b[38;5;66;03m# to_value only copies if necessary\u001b[39;00m\n\u001b[1;32m    941\u001b[0m     value \u001b[38;5;241m=\u001b[39m \u001b[38;5;28mself\u001b[39m\u001b[38;5;241m.\u001b[39mto_value(unit, equivalencies)\n",
      "File \u001b[0;32m~/miniconda3/envs/pycraf-env/lib/python3.10/site-packages/astropy/units/quantity.py:891\u001b[0m, in \u001b[0;36mQuantity._to_value\u001b[0;34m(self, unit, equivalencies)\u001b[0m\n\u001b[1;32m    888\u001b[0m     equivalencies \u001b[38;5;241m=\u001b[39m \u001b[38;5;28mself\u001b[39m\u001b[38;5;241m.\u001b[39m_equivalencies\n\u001b[1;32m    889\u001b[0m \u001b[38;5;28;01mif\u001b[39;00m \u001b[38;5;129;01mnot\u001b[39;00m \u001b[38;5;28mself\u001b[39m\u001b[38;5;241m.\u001b[39mdtype\u001b[38;5;241m.\u001b[39mnames \u001b[38;5;129;01mor\u001b[39;00m \u001b[38;5;28misinstance\u001b[39m(\u001b[38;5;28mself\u001b[39m\u001b[38;5;241m.\u001b[39munit, StructuredUnit):\n\u001b[1;32m    890\u001b[0m     \u001b[38;5;66;03m# Standard path, let unit to do work.\u001b[39;00m\n\u001b[0;32m--> 891\u001b[0m     \u001b[38;5;28;01mreturn\u001b[39;00m \u001b[38;5;28;43mself\u001b[39;49m\u001b[38;5;241;43m.\u001b[39;49m\u001b[43munit\u001b[49m\u001b[38;5;241;43m.\u001b[39;49m\u001b[43mto\u001b[49m\u001b[43m(\u001b[49m\n\u001b[1;32m    892\u001b[0m \u001b[43m        \u001b[49m\u001b[43munit\u001b[49m\u001b[43m,\u001b[49m\u001b[43m \u001b[49m\u001b[38;5;28;43mself\u001b[39;49m\u001b[38;5;241;43m.\u001b[39;49m\u001b[43mview\u001b[49m\u001b[43m(\u001b[49m\u001b[43mnp\u001b[49m\u001b[38;5;241;43m.\u001b[39;49m\u001b[43mndarray\u001b[49m\u001b[43m)\u001b[49m\u001b[43m,\u001b[49m\u001b[43m \u001b[49m\u001b[43mequivalencies\u001b[49m\u001b[38;5;241;43m=\u001b[39;49m\u001b[43mequivalencies\u001b[49m\n\u001b[1;32m    893\u001b[0m \u001b[43m    \u001b[49m\u001b[43m)\u001b[49m\n\u001b[1;32m    895\u001b[0m \u001b[38;5;28;01melse\u001b[39;00m:\n\u001b[1;32m    896\u001b[0m     \u001b[38;5;66;03m# The .to() method of a simple unit cannot convert a structured\u001b[39;00m\n\u001b[1;32m    897\u001b[0m     \u001b[38;5;66;03m# dtype, so we work around it, by recursing.\u001b[39;00m\n\u001b[1;32m    898\u001b[0m     \u001b[38;5;66;03m# TODO: deprecate this?\u001b[39;00m\n\u001b[1;32m    899\u001b[0m     \u001b[38;5;66;03m# Convert simple to Structured on initialization?\u001b[39;00m\n\u001b[1;32m    900\u001b[0m     result \u001b[38;5;241m=\u001b[39m np\u001b[38;5;241m.\u001b[39mempty_like(\u001b[38;5;28mself\u001b[39m\u001b[38;5;241m.\u001b[39mview(np\u001b[38;5;241m.\u001b[39mndarray))\n",
      "File \u001b[0;32m~/miniconda3/envs/pycraf-env/lib/python3.10/site-packages/astropy/units/function/core.py:288\u001b[0m, in \u001b[0;36mFunctionUnitBase.to\u001b[0;34m(self, other, value, equivalencies)\u001b[0m\n\u001b[1;32m    285\u001b[0m \u001b[38;5;28;01melse\u001b[39;00m:\n\u001b[1;32m    286\u001b[0m     \u001b[38;5;28;01mtry\u001b[39;00m:\n\u001b[1;32m    287\u001b[0m         \u001b[38;5;66;03m# when other is not a function unit\u001b[39;00m\n\u001b[0;32m--> 288\u001b[0m         \u001b[38;5;28;01mreturn\u001b[39;00m \u001b[38;5;28;43mself\u001b[39;49m\u001b[38;5;241;43m.\u001b[39;49m\u001b[43mphysical_unit\u001b[49m\u001b[38;5;241;43m.\u001b[39;49m\u001b[43mto\u001b[49m\u001b[43m(\u001b[49m\n\u001b[1;32m    289\u001b[0m \u001b[43m            \u001b[49m\u001b[43mother\u001b[49m\u001b[43m,\u001b[49m\u001b[43m \u001b[49m\u001b[38;5;28;43mself\u001b[39;49m\u001b[38;5;241;43m.\u001b[39;49m\u001b[43mto_physical\u001b[49m\u001b[43m(\u001b[49m\u001b[43mvalue\u001b[49m\u001b[43m)\u001b[49m\u001b[43m,\u001b[49m\u001b[43m \u001b[49m\u001b[43mequivalencies\u001b[49m\n\u001b[1;32m    290\u001b[0m \u001b[43m        \u001b[49m\u001b[43m)\u001b[49m\n\u001b[1;32m    291\u001b[0m     \u001b[38;5;28;01mexcept\u001b[39;00m UnitConversionError \u001b[38;5;28;01mas\u001b[39;00m e:\n\u001b[1;32m    292\u001b[0m         \u001b[38;5;28;01mif\u001b[39;00m \u001b[38;5;28mself\u001b[39m\u001b[38;5;241m.\u001b[39mfunction_unit \u001b[38;5;241m==\u001b[39m Unit(\u001b[38;5;124m\"\u001b[39m\u001b[38;5;124mmag\u001b[39m\u001b[38;5;124m\"\u001b[39m):\n\u001b[1;32m    293\u001b[0m             \u001b[38;5;66;03m# One can get to raw magnitudes via math that strips the dimensions off.\u001b[39;00m\n\u001b[1;32m    294\u001b[0m             \u001b[38;5;66;03m# Include extra information in the exception to remind users of this.\u001b[39;00m\n",
      "File \u001b[0;32m~/miniconda3/envs/pycraf-env/lib/python3.10/site-packages/astropy/units/core.py:1195\u001b[0m, in \u001b[0;36mUnitBase.to\u001b[0;34m(self, other, value, equivalencies)\u001b[0m\n\u001b[1;32m   1193\u001b[0m     \u001b[38;5;28;01mreturn\u001b[39;00m UNITY\n\u001b[1;32m   1194\u001b[0m \u001b[38;5;28;01melse\u001b[39;00m:\n\u001b[0;32m-> 1195\u001b[0m     \u001b[38;5;28;01mreturn\u001b[39;00m \u001b[38;5;28;43mself\u001b[39;49m\u001b[38;5;241;43m.\u001b[39;49m\u001b[43m_get_converter\u001b[49m\u001b[43m(\u001b[49m\u001b[43mUnit\u001b[49m\u001b[43m(\u001b[49m\u001b[43mother\u001b[49m\u001b[43m)\u001b[49m\u001b[43m,\u001b[49m\u001b[43m \u001b[49m\u001b[43mequivalencies\u001b[49m\u001b[43m)\u001b[49m\u001b[43m(\u001b[49m\u001b[43mvalue\u001b[49m\u001b[43m)\u001b[49m\n",
      "\u001b[0;31mKeyboardInterrupt\u001b[0m: "
     ]
    }
   ],
   "source": [
    "print(f'loop this for all {npoints} pointings')\n",
    "\n",
    "\n",
    "\n",
    "print('running pointing grid.....')\n",
    "\n",
    "grx=rx.antgain1d(tp_az=simulator.tel_az,tp_el=simulator.tel_el,sat_obs_az=simulator.topo_pos_az,sat_obs_el=simulator.topo_pos_el)\n",
    "readout=obs.prx_cnv(sat_power,grx, outunit=u.W)\n",
    "print(readout.shape)\n",
    "\n",
    "totalprx=readout.sum(4)\n",
    "prxarray=totalprx\n",
    "# print(prxarray)\n",
    "pwr_flux_density = (cnv.powerflux_from_prx(totalprx * 1e60, freq, 0 * cnv.dBi) * 1e-60).to(cnv.dB_W_m2)\n",
    "### this step converts to ra769\n",
    "# print(pwr_flux_density)\n",
    "\n",
    "pfdarray=pwr_flux_density\n",
    "\n",
    "print('done')"
   ]
  },
  {
   "cell_type": "code",
   "execution_count": null,
   "id": "4c55af15",
   "metadata": {},
   "outputs": [],
   "source": [
    "# aux_file='test.npz'\n",
    "\n",
    "# np.savez(\n",
    "#     aux_file,\n",
    "#     tel_az=tel_az,\n",
    "#     tel_el=tel_el,\n",
    "#     grid_info=grid_info,\n",
    "#     pfd_lim_W_m2=pfd_lim.to_value(u.W / u.m ** 2),\n",
    "#     frequency_ghz=freq.to_value(u.GHz),\n",
    "#     observatory=observatory\n",
    "#     )\n",
    "indexslice=0\n",
    "_pfds=pfdarray[:,:,indexslice]\n",
    "pfd_lin = _pfds.to_value(u.W / u.m ** 2)\n",
    "pfd_avg = (np.mean(pfd_lin, axis=1) * u.W / u.m ** 2).to(cnv.dB_W_m2)\n",
    "pfd_98p = (np.percentile(pfd_lin, 98., axis=0) * u.W / u.m ** 2).to(cnv.dB_W_m2)\n",
    "pfd_max = (np.max(pfd_lin, axis=0) * u.W / u.m ** 2).to(cnv.dB_W_m2)\n",
    "\n",
    "_pfd_lim_W_m2 = pfd_lim.to_value(u.W / u.m ** 2)\n"
   ]
  },
  {
   "cell_type": "code",
   "execution_count": null,
   "id": "c40b7bba",
   "metadata": {},
   "outputs": [],
   "source": [
    "\n",
    "val = pfd_avg.to_value(cnv.dB_W_m2)\n",
    "skynet.plotgrid(val,grid_info,point_az=topo_pos_az[0,:,indexslice],point_el=topo_pos_el[0,:,indexslice],\n",
    "                elmax=90,elmin=-90)"
   ]
  },
  {
   "cell_type": "code",
   "execution_count": null,
   "id": "80a862e8",
   "metadata": {},
   "outputs": [],
   "source": [
    "pfdarray.shape"
   ]
  },
  {
   "cell_type": "code",
   "execution_count": null,
   "id": "57eb5e6b",
   "metadata": {},
   "outputs": [],
   "source": []
  }
 ],
 "metadata": {
  "kernelspec": {
   "display_name": "pycraf-env",
   "language": "python",
   "name": "python3"
  },
  "language_info": {
   "codemirror_mode": {
    "name": "ipython",
    "version": 3
   },
   "file_extension": ".py",
   "mimetype": "text/x-python",
   "name": "python",
   "nbconvert_exporter": "python",
   "pygments_lexer": "ipython3",
   "version": "3.10.13"
  }
 },
 "nbformat": 4,
 "nbformat_minor": 5
}
