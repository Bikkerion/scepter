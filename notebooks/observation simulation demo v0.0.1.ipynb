{
 "cells": [
  {
   "cell_type": "code",
   "execution_count": 1,
   "id": "b14a62dc",
   "metadata": {},
   "outputs": [],
   "source": [
    "from importlib import reload  \n",
    "import numpy as np\n",
    "import matplotlib.pyplot as plt\n",
    "import pycraf\n",
    "import cysgp4\n",
    "from pycraf import conversions as cnv\n",
    "from pycraf import protection, antenna, geometry\n",
    "from astropy import units as u, constants as const\n",
    "from scepter import skynet,obs\n",
    "from astropy import coordinates as coord\n",
    "\n"
   ]
  },
  {
   "cell_type": "code",
   "execution_count": 2,
   "id": "b226d986",
   "metadata": {},
   "outputs": [
    {
     "name": "stdout",
     "output_type": "stream",
     "text": [
      "GeodeticLocation(lon=<Longitude 148.26351001 deg>, lat=<Latitude -32.9984064 deg>, height=<Quantity 414.75974971 m>)\n"
     ]
    }
   ],
   "source": [
    "\n",
    "###reload here\n",
    "reload(skynet)\n",
    "reload(obs)\n",
    "\n",
    "### we're testing with the ie613 lofar station location\n",
    "longitude = 7.9219 * u.deg\n",
    "latitude = 53.0950 * u.deg\n",
    "elevation = 72.0 * u.m\n",
    "observatory1=cysgp4.PyObserver(longitude.value,latitude.value,elevation.to(u.km).value)\n",
    "parkes=coord.EarthLocation.of_site('Parkes')\n",
    "print(parkes.geodetic)\n",
    "longitude = parkes.geodetic.lon\n",
    "latitude = parkes.geodetic.lat\n",
    "elevation = parkes.geodetic.height\n",
    "observatory2=cysgp4.PyObserver(longitude.value,latitude.value,elevation.to(u.km).value)"
   ]
  },
  {
   "cell_type": "code",
   "execution_count": 3,
   "id": "6e059b98",
   "metadata": {},
   "outputs": [
    {
     "name": "stdout",
     "output_type": "stream",
     "text": [
      "frequency bandwidth T_A T_rx T_rms  P_rms_nu   Plim   Plim_nu      Slim        Slim_nu        Efield    Efield_norm \n",
      "   MHz       MHz     K   K     mK  dB(W / Hz) dB(W)  dB(W / Hz) dB(W / m2) dB(W / (Hz m2)) dB(uV2 / m2) dB(uV2 / m2)\n",
      "--------- --------- --- ---- ----- ---------- ------ ---------- ---------- --------------- ------------ ------------\n",
      "      325         7  40   60 0.870     -259.2 -201.0     -269.2     -189.3          -257.5        -43.5        -51.7\n"
     ]
    }
   ],
   "source": [
    "\n",
    "\n",
    "\n",
    "obsmode='continuum'\n",
    "ras_df = protection.ra769_limits(mode=obsmode).to_pandas() # 150 MHz RAS band\n",
    "ras_tab = protection.ra769_limits(mode='continuum')[4] # 0.325 GHz RAS band\n",
    "# print(ras_df)\n",
    "print(ras_tab)\n",
    "# Rx (RAS) parameters\n",
    "eta_a_rx = 100 * u.percent"
   ]
  },
  {
   "cell_type": "markdown",
   "id": "a805d9e8",
   "metadata": {},
   "source": [
    "### simulate telescope pointing grid"
   ]
  },
  {
   "cell_type": "code",
   "execution_count": 4,
   "id": "705acd5a",
   "metadata": {},
   "outputs": [
    {
     "name": "stdout",
     "output_type": "stream",
     "text": [
      "(1, 2578)\n",
      "6.6 MHz\n"
     ]
    }
   ],
   "source": [
    "min_elevation = 30 * u.deg\n",
    "grid_size = 2. * u.deg\n",
    "npoints=1 ##pointing per cell\n",
    "skygrid = skynet.pointgen(niters=npoints,\n",
    "    step_size=grid_size,\n",
    "    lat_range=(min_elevation, 90 * u.deg),\n",
    "    rnd_seed=0,\n",
    "    )\n",
    "\n",
    "tel_az, tel_el, grid_info = skygrid \n",
    "# print('-' * 80)\n",
    "# print('Minimum elevation: {0:.2f}'.format(min_elevation))\n",
    "# print('Number of cells: {0:d}'.format(len(grid_info)))\n",
    "# print('-' * 80)\n",
    "# ncell=len(grid_info)\n",
    "print(tel_az.shape)\n",
    "## match dimensions of this simulation\n",
    "# tel_az=tel_az[:,np.newaxis,np.newaxis,np.newaxis]\n",
    "# tel_el=tel_el[:,np.newaxis,np.newaxis,np.newaxis]\n",
    "\n",
    "freq = ras_tab['frequency']\n",
    "\n",
    "p_lim = ras_tab['Plim']\n",
    "pfd_lim = ras_tab['Slim']\n",
    "ras_bandwidth = ras_tab['bandwidth']\n",
    "margin = 0\n",
    "\n",
    "p_tx_carrier = (-44+margin) * cnv.dBm #CISPR22 maximum emission at 150 MHz is -44 dBm\n",
    "carrier_bandwidth = ras_tab['bandwidth'] #this is not specified in the french section...\n",
    "duty_cycle = 100 * u.percent\n",
    "print(ras_bandwidth)\n",
    "\n",
    "# freq=10.4*u.GHz\n"
   ]
  },
  {
   "cell_type": "markdown",
   "id": "2f539c04",
   "metadata": {},
   "source": [
    "### set up transmitter class"
   ]
  },
  {
   "cell_type": "code",
   "execution_count": 5,
   "id": "27bc3b71",
   "metadata": {},
   "outputs": [
    {
     "name": "stdout",
     "output_type": "stream",
     "text": [
      "-44.0 dB(mW)\n"
     ]
    }
   ],
   "source": [
    "tx=obs.transmitter_info(p_tx_carrier, carrier_bandwidth, duty_cycle, d_tx=1*u.m,freq=freq)\n",
    "p_tx=tx.power_tx(ras_bandwidth)\n",
    "print(p_tx)"
   ]
  },
  {
   "cell_type": "code",
   "execution_count": 6,
   "id": "349adc4b",
   "metadata": {},
   "outputs": [
    {
     "name": "stdout",
     "output_type": "stream",
     "text": [
      "1d gain pattern of transmitter at phi = 30 is 5.760100803001295 dB\n"
     ]
    }
   ],
   "source": [
    "gain=tx.satgain1d(30*u.deg)\n",
    "print(f'1d gain pattern of transmitter at phi = 30 is {gain}')"
   ]
  },
  {
   "cell_type": "markdown",
   "id": "bfb74302",
   "metadata": {},
   "source": [
    "### set up receiver class"
   ]
  },
  {
   "cell_type": "code",
   "execution_count": 7,
   "id": "281b02b9",
   "metadata": {},
   "outputs": [],
   "source": [
    "dish=100*u.m\n",
    "eta=0.7 *100*u.percent ## in percentage\n",
    "### frequency band\n",
    "## transmitter parameters\n",
    "sat_antenna=0.1*u.m\n",
    "### observatory list will be passed on internally like this\n",
    "observers = np.array([observatory1,observatory2\n",
    "    ])\n",
    "rx=obs.receiver_info(dish,eta,observers,freq,bandwidth=ras_bandwidth)"
   ]
  },
  {
   "cell_type": "code",
   "execution_count": 8,
   "id": "2a172e04",
   "metadata": {},
   "outputs": [
    {
     "data": {
      "text/plain": [
       "array([<PyObserver: 7.9219d, 53.0950d, 0.0720km>,\n",
       "       <PyObserver: 148.2635d, -32.9984d, 0.4148km>], dtype=object)"
      ]
     },
     "execution_count": 8,
     "metadata": {},
     "output_type": "execute_result"
    }
   ],
   "source": [
    "rx.location  ### observatory information is saved here"
   ]
  },
  {
   "cell_type": "code",
   "execution_count": 9,
   "id": "e9ecb213",
   "metadata": {},
   "outputs": [],
   "source": [
    "###load some tle from starlink\n",
    "import requests\n",
    "url = 'https://celestrak.org/NORAD/elements/gp.php?GROUP=starlink&FORMAT=tle'\n",
    "ctrak_starlink = requests.get(url).text\n",
    "\n",
    "tle_list = cysgp4.tle_tuples_from_text(ctrak_starlink)\n",
    "\n",
    "# tle_list"
   ]
  },
  {
   "cell_type": "code",
   "execution_count": 11,
   "id": "95981a59",
   "metadata": {},
   "outputs": [
    {
     "name": "stdout",
     "output_type": "stream",
     "text": [
      "(1, 1, 1, 1, 100, 1)\n"
     ]
    }
   ],
   "source": [
    "### set time and simulation settings\n",
    "\n",
    "niters = 1\n",
    "pydt = cysgp4.PyDateTime() ## take current date and time\n",
    "start_times_window = 24 * u.hour\n",
    "time_range, time_resol = 100*u.s, 1*u.s  # seconds\n",
    "epochiters=time_range/time_resol\n",
    "\n",
    "# print(start_times,td)\n",
    "mjds = skynet.plantime(niters,start_times_window,time_range,time_resol,pydt)\n",
    "print(mjds.shape)"
   ]
  },
  {
   "cell_type": "code",
   "execution_count": 18,
   "id": "ac616157",
   "metadata": {},
   "outputs": [
    {
     "name": "stdout",
     "output_type": "stream",
     "text": [
      "we are simulating 200 satellites over 1.0 days,\n",
      "each day/epoch contains 100.0 iterations over with 100.0 s seconds\n",
      "<class 'numpy.ndarray'>\n"
     ]
    }
   ],
   "source": [
    "tles = np.array([\n",
    "    cysgp4.PyTle(*tle) for tle in tle_list\n",
    "    ])[:200]  # use which TLEs\n",
    "\n",
    "print (f'we are simulating {tles.shape[0]} satellites over {niters*start_times_window.to_value(u.day)} days,')\n",
    "print(f'each day/epoch contains {epochiters} iterations over with {time_range} seconds')\n",
    "\n",
    "print(type(tles))"
   ]
  },
  {
   "cell_type": "code",
   "execution_count": 19,
   "id": "bbdd1590",
   "metadata": {},
   "outputs": [],
   "source": [
    "test=obs.obs_sim(tx,rx,tles,skygrid,mjds)\n"
   ]
  },
  {
   "cell_type": "code",
   "execution_count": 20,
   "id": "ecd3e715",
   "metadata": {},
   "outputs": [
    {
     "name": "stdout",
     "output_type": "stream",
     "text": [
      "(2, 1, 1, 1, 1, 1) (1, 1, 1, 1, 1, 200) (1, 1, 1, 1, 100, 1)\n",
      "Obtaining satellite and time information, propagation for large arrays may take a while...\n",
      "Done. Satellite coordinates obtained\n"
     ]
    }
   ],
   "source": [
    "test.populate()\n",
    "\n"
   ]
  },
  {
   "cell_type": "code",
   "execution_count": 21,
   "id": "3d3ebec1",
   "metadata": {},
   "outputs": [
    {
     "name": "stdout",
     "output_type": "stream",
     "text": [
      "(2, 1, 1, 1, 100, 200)\n"
     ]
    }
   ],
   "source": [
    "satinfo=test.sat_info\n",
    "\n",
    "print(test.topo_pos_az.shape)\n",
    "\n",
    "# g_rx=rx.antgain1d(test.tel_az,test.tel_el,test.topo_pos_az,test.topo_pos_el)\n"
   ]
  },
  {
   "cell_type": "markdown",
   "id": "9ecf07f0",
   "metadata": {},
   "source": [
    "### calculate beam pointing in satellite reference frame compared to observatory location"
   ]
  },
  {
   "cell_type": "code",
   "execution_count": 22,
   "id": "f30536ae",
   "metadata": {},
   "outputs": [
    {
     "name": "stdout",
     "output_type": "stream",
     "text": [
      "(2, 1, 1, 1, 100, 200) (2, 1, 1, 1, 100, 200)\n"
     ]
    }
   ],
   "source": [
    "ang_sep,delta_az,delta_el,obs_dist=obs.sat_frame_pointing(sat_info=test.sat_info,beam_el=20,beam_az=0)\n",
    "ang_sep=test.txbeam_angsep(beam_az=20,beam_el=0)\n",
    "\n",
    "print(ang_sep.shape,obs_dist.shape)"
   ]
  },
  {
   "cell_type": "markdown",
   "id": "7e2cb957",
   "metadata": {},
   "source": [
    "### calculate gain in observatory direction using 1d antenna pattern"
   ]
  },
  {
   "cell_type": "code",
   "execution_count": 23,
   "id": "cd340b08",
   "metadata": {},
   "outputs": [],
   "source": [
    "gtx=tx.satgain1d(ang_sep) \n"
   ]
  },
  {
   "cell_type": "markdown",
   "id": "77573413",
   "metadata": {},
   "source": [
    "### apply free space path loss over distance"
   ]
  },
  {
   "cell_type": "code",
   "execution_count": 24,
   "id": "e19c11a4",
   "metadata": {},
   "outputs": [],
   "source": [
    "sat_power=tx.fspl(obs_dist*u.km,gtx)"
   ]
  },
  {
   "cell_type": "code",
   "execution_count": 25,
   "id": "cb2db375",
   "metadata": {},
   "outputs": [
    {
     "data": {
      "text/latex": [
       "$[[[[[-203.39047,~-202.3498,~-202.77984,~\\dots,~-188.34293,~-202.11545,~-200.57887],~\n",
       "    [-203.38831,~-202.35119,~-202.77438,~\\dots,~-188.34295,~-202.11693,~-200.58679],~\n",
       "    [-203.38615,~-202.35258,~-202.76891,~\\dots,~-188.34331,~-202.11841,~-200.5947],~\n",
       "    \\dots,~\n",
       "    [-203.18328,~-202.49286,~-202.22158,~\\dots,~-189.25137,~-202.26086,~-201.30511],~\n",
       "    [-203.18117,~-202.49442,~-202.21551,~\\dots,~-189.26435,~-202.26237,~-201.31218],~\n",
       "    [-203.17907,~-202.49598,~-202.20944,~\\dots,~-189.27743,~-202.26389,~-201.31924]]]]] \\; \\mathrm{dB}$$\\mathrm{\\left( \\mathrm{mW} \\right)}$"
      ],
      "text/plain": [
       "<Decibel [[[[[-203.39047052, -202.34980103, -202.77984327, ...,\n",
       "              -188.34292761, -202.11545194, -200.57887392],\n",
       "             [-203.38831187, -202.35119148, -202.7743795 , ...,\n",
       "              -188.34294889, -202.11692983, -200.58679395],\n",
       "             [-203.38615356, -202.35258374, -202.76890989, ...,\n",
       "              -188.34331107, -202.11840828, -200.59470446],\n",
       "             ...,\n",
       "             [-203.18327871, -202.49285891, -202.22157891, ...,\n",
       "              -189.25136757, -202.26085733, -201.30511337],\n",
       "             [-203.18117218, -202.49441717, -202.21551311, ...,\n",
       "              -189.26435479, -202.26237154, -201.31218165],\n",
       "             [-203.17906638, -202.49597708, -202.2094407 , ...,\n",
       "              -189.27743258, -202.26388592, -201.31924183]]]]] dB(mW)>"
      ]
     },
     "execution_count": 25,
     "metadata": {},
     "output_type": "execute_result"
    }
   ],
   "source": [
    "sat_power[0]"
   ]
  },
  {
   "cell_type": "code",
   "execution_count": null,
   "id": "878eb729",
   "metadata": {},
   "outputs": [],
   "source": []
  },
  {
   "cell_type": "code",
   "execution_count": null,
   "id": "8b51d275",
   "metadata": {},
   "outputs": [],
   "source": []
  },
  {
   "cell_type": "markdown",
   "id": "6c307a9c",
   "metadata": {},
   "source": [
    "### loop all cells"
   ]
  },
  {
   "cell_type": "code",
   "execution_count": 26,
   "id": "4317a901",
   "metadata": {},
   "outputs": [
    {
     "name": "stdout",
     "output_type": "stream",
     "text": [
      "loop this for all 1 pointings\n",
      "running pointing grid.....\n",
      "Obtaining satellite and telescope pointing coordinates, calculation for large arrays may take a while...\n",
      "Done. putting angular separation into gain pattern function\n",
      "(2, 1, 2578, 1, 100, 200)\n"
     ]
    }
   ],
   "source": [
    "print(f'loop this for all {npoints} pointings')\n",
    "\n",
    "\n",
    "\n",
    "print('running pointing grid.....')\n",
    "\n",
    "grx=rx.antgain1d(tp_az=test.tel_az,tp_el=test.tel_el,sat_obs_az=test.topo_pos_az,sat_obs_el=test.topo_pos_el)\n",
    "readout=obs.prx_cnv(sat_power,grx, outunit=u.W)  ### calculate prx in W\n",
    "print(readout.shape)\n",
    "\n",
    "# telescopeindex=0\n",
    "# dayindex=0\n",
    "# timeindex=np.arange(0,100,1)\n",
    "# sourcesum=pfdarray.sum(axis=5) ### sum up all sources\n",
    "# print(sourcesum.shape)\n",
    "# timeavg=sourcesum[:,:,:,:,timeindex].mean(axis=4) ### sum up time integration\n",
    "# print(timeavg.shape)\n",
    "\n",
    "# timeavg=timeavg.mean(axis=3) ### pick day integration\n",
    "\n",
    "# print(timeavg.shape)\n"
   ]
  },
  {
   "cell_type": "code",
   "execution_count": 27,
   "id": "4c55af15",
   "metadata": {},
   "outputs": [
    {
     "name": "stdout",
     "output_type": "stream",
     "text": [
      "(2, 1, 2578, 1, 100)\n",
      "(2, 1, 2578, 1)\n",
      "(2, 1, 2578)\n"
     ]
    }
   ],
   "source": [
    "telescopeindex=0\n",
    "dayindex=0\n",
    "timeindex=np.arange(0,100,1)\n",
    "\n",
    "sourcesum=readout.sum(axis=5) ### sum up all sources\n",
    "\n",
    "print(sourcesum.shape)\n",
    "timeavg=sourcesum[:,:,:,:,timeindex].mean(axis=4) ### sum up time integration\n",
    "print(timeavg.shape)\n",
    "\n",
    "timeavg=timeavg.mean(axis=3) ### pick day integration\n",
    "\n",
    "print(timeavg.shape)\n",
    "\n",
    "# print(prxarray)\n",
    "# pwr_flux_density = (cnv.powerflux_from_prx(totalprx * 1e60, freq, 0 * cnv.dBi) * 1e-60).to(cnv.dB_W_m2)\n",
    "### this step converts to ra769\n",
    "# print(pwr_flux_density)\n",
    "\n",
    "# pfdarray=pwr_flux_density\n",
    "# prx=cnv.prx_from_powerflux (pwr_flux_density,freq=ras_bandwidth,grx=g_rx)\n",
    "# print(totalprx.shape)"
   ]
  },
  {
   "cell_type": "code",
   "execution_count": 28,
   "id": "ad29f796",
   "metadata": {},
   "outputs": [
    {
     "name": "stdout",
     "output_type": "stream",
     "text": [
      "(1, 2578)\n"
     ]
    }
   ],
   "source": [
    "totalprx=timeavg[telescopeindex]\n",
    "# totalprx=totalprx.sum(axis=0) ### average over all antennas\n",
    "print(totalprx.shape)\n",
    "#### ra769 conversion\n",
    "_pfds=pwr_flux_density = (cnv.powerflux_from_prx(totalprx * 1e60, freq, 0 * cnv.dBi) * 1e-60).to(cnv.dB_W_m2)\n",
    "pfd_lin = _pfds.to_value(u.W / u.m ** 2)\n",
    "pfd_avg = (np.mean(pfd_lin, axis=0) * u.W / u.m ** 2).to(cnv.dB_W_m2)\n",
    "pfd_98p = (np.percentile(pfd_lin, 98., axis=0) * u.W / u.m ** 2).to(cnv.dB_W_m2)\n",
    "pfd_max = (np.max(pfd_lin, axis=0) * u.W / u.m ** 2).to(cnv.dB_W_m2)\n",
    "\n",
    "_pfd_lim_W_m2 = pfd_lim.to_value(u.W / u.m ** 2)"
   ]
  },
  {
   "cell_type": "code",
   "execution_count": 29,
   "id": "c40b7bba",
   "metadata": {},
   "outputs": [
    {
     "data": {
      "image/png": "[encoded data removed]",
      "text/plain": [
       "<Figure size 1200x400 with 2 Axes>"
      ]
     },
     "metadata": {},
     "output_type": "display_data"
    },
    {
     "data": {
      "image/png": "[encoded data removed]",
      "text/plain": [
       "<Figure size 1200x400 with 2 Axes>"
      ]
     },
     "metadata": {},
     "output_type": "display_data"
    }
   ],
   "source": [
    "val = pfd_avg.to_value(cnv.dB_W_m2)\n",
    "### plot with satellites\n",
    "skynet.plotgrid(val,grid_info,point_az=test.topo_pos_az[telescopeindex,:,0,:,:,:],point_el=test.topo_pos_el[telescopeindex,:,0,:,:,:],\n",
    "                elmax=90,elmin=35)\n",
    "### no satellites\n",
    "skynet.plotgrid(val,grid_info,point_az=[],point_el=[],\n",
    "                elmax=90,elmin=35)"
   ]
  },
  {
   "cell_type": "code",
   "execution_count": null,
   "id": "80a862e8",
   "metadata": {},
   "outputs": [],
   "source": []
  },
  {
   "cell_type": "code",
   "execution_count": null,
   "id": "57eb5e6b",
   "metadata": {},
   "outputs": [],
   "source": []
  }
 ],
 "metadata": {
  "kernelspec": {
   "display_name": "Python 3 (ipykernel)",
   "language": "python",
   "name": "python3"
  },
  "language_info": {
   "codemirror_mode": {
    "name": "ipython",
    "version": 3
   },
   "file_extension": ".py",
   "mimetype": "text/x-python",
   "name": "python",
   "nbconvert_exporter": "python",
   "pygments_lexer": "ipython3",
   "version": "3.10.13"
  }
 },
 "nbformat": 4,
 "nbformat_minor": 5
}
